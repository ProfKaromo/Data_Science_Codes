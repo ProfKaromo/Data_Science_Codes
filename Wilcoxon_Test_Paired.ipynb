{
  "nbformat": 4,
  "nbformat_minor": 0,
  "metadata": {
    "colab": {
      "provenance": [],
      "authorship_tag": "ABX9TyOQwlQkfAg0paaWuGzPhC4r",
      "include_colab_link": true
    },
    "kernelspec": {
      "name": "python3",
      "display_name": "Python 3"
    },
    "language_info": {
      "name": "python"
    }
  },
  "cells": [
    {
      "cell_type": "markdown",
      "metadata": {
        "id": "view-in-github",
        "colab_type": "text"
      },
      "source": [
        "<a href=\"https://colab.research.google.com/github/ProfKaromo/Data_Science_Codes/blob/main/Wilcoxon_Test_Paired.ipynb\" target=\"_parent\"><img src=\"https://colab.research.google.com/assets/colab-badge.svg\" alt=\"Open In Colab\"/></a>"
      ]
    },
    {
      "cell_type": "code",
      "execution_count": 1,
      "metadata": {
        "id": "qD7zFKQ9Ohh4"
      },
      "outputs": [],
      "source": [
        "# H0: The mpg is equal between  the two groups\n",
        "# HA:: The mpg is not equal between the two groups\n",
        "\n",
        "group1 = [20, 23, 21, 25, 18, 17, 18, 24, 20, 24, 23, 19]\n",
        "group2 = [24, 25, 21, 22, 23, 18, 17, 28, 24, 27, 21, 23]"
      ]
    },
    {
      "cell_type": "code",
      "source": [
        "from scipy.stats import wilcoxon\n",
        "stats, pvalue = wilcoxon(group1, group2, alternative='two-sided')\n",
        "print('P values ', pvalue)\n",
        "if pvalue < 0.05:\n",
        "   print('Reject Null, # H0: The mpg is not equal between the two groups')\n",
        "else:\n",
        "   print('Fail to Reject,#H1 The mpg is equal between  the two groups')"
      ],
      "metadata": {
        "colab": {
          "base_uri": "https://localhost:8080/"
        },
        "id": "BAGRr7ozOjQk",
        "outputId": "dab7cede-b6cd-414d-89d5-b933f7631fff"
      },
      "execution_count": 2,
      "outputs": [
        {
          "output_type": "stream",
          "name": "stdout",
          "text": [
            "P values  0.044065400736826854\n",
            "Reject Null, # H0: The mpg is not equal between the two groups\n"
          ]
        },
        {
          "output_type": "stream",
          "name": "stderr",
          "text": [
            "/usr/local/lib/python3.7/dist-packages/scipy/stats/morestats.py:3141: UserWarning: Exact p-value calculation does not work if there are ties. Switching to normal approximation.\n",
            "  warnings.warn(\"Exact p-value calculation does not work if there are \"\n"
          ]
        }
      ]
    }
  ]
}