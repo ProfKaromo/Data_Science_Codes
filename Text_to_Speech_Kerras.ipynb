{
  "nbformat": 4,
  "nbformat_minor": 0,
  "metadata": {
    "colab": {
      "provenance": [],
      "authorship_tag": "ABX9TyNojd8YPOODKz82wdNaul0z",
      "include_colab_link": true
    },
    "kernelspec": {
      "name": "python3",
      "display_name": "Python 3"
    },
    "language_info": {
      "name": "python"
    },
    "accelerator": "GPU",
    "gpuClass": "standard"
  },
  "cells": [
    {
      "cell_type": "markdown",
      "metadata": {
        "id": "view-in-github",
        "colab_type": "text"
      },
      "source": [
        "<a href=\"https://colab.research.google.com/github/ProfKaromo/Data_Science_Codes/blob/main/Text_to_Speech_Kerras.ipynb\" target=\"_parent\"><img src=\"https://colab.research.google.com/assets/colab-badge.svg\" alt=\"Open In Colab\"/></a>"
      ]
    },
    {
      "cell_type": "code",
      "execution_count": 1,
      "metadata": {
        "colab": {
          "base_uri": "https://localhost:8080/"
        },
        "id": "q_PRzSLitipk",
        "outputId": "ea448890-0ad3-4a5d-b6f3-08d1b980ec16"
      },
      "outputs": [
        {
          "output_type": "stream",
          "name": "stdout",
          "text": [
            "Mounted at /content/drive\n"
          ]
        }
      ],
      "source": [
        "from google.colab import drive\n",
        "drive.mount('/content/drive')"
      ]
    },
    {
      "cell_type": "code",
      "source": [
        "import os\n",
        "import librosa\n",
        "import IPython.display as ipd\n",
        "import matplotlib.pyplot as plt\n",
        "import numpy as np\n",
        "from scipy.io import wavfile\n",
        "from tqdm import tqdm"
      ],
      "metadata": {
        "id": "CVT07lvHt1Af"
      },
      "execution_count": 2,
      "outputs": []
    },
    {
      "cell_type": "code",
      "source": [
        "# Subsample\n",
        "labels = [\n",
        "    'down', 'left', 'up',\n",
        "]\n",
        "train_audio_path = '/content/drive/MyDrive/audio'\n",
        "\n",
        "all_wave = []\n",
        "all_label = []\n",
        "for label in tqdm(labels):\n",
        "    waves = [f for f in os.listdir(train_audio_path + '/'+ label) if f.endswith('.wav')]\n",
        "    for wav in waves:\n",
        "        samples, sample_rate = librosa.load(train_audio_path + '/' + label + '/' + wav, sr = 16000)\n",
        "        samples = librosa.resample(samples, sample_rate, 8000)\n",
        "        if(len(samples)== 8000) : \n",
        "            all_wave.append(samples)\n",
        "            all_label.append(label)"
      ],
      "metadata": {
        "colab": {
          "base_uri": "https://localhost:8080/"
        },
        "id": "Fzzho2u-t2IK",
        "outputId": "068b9ec1-ac8a-4477-f1cf-648c114a7820"
      },
      "execution_count": 3,
      "outputs": [
        {
          "output_type": "stream",
          "name": "stderr",
          "text": [
            "100%|██████████| 3/3 [00:13<00:00,  4.49s/it]\n"
          ]
        }
      ]
    },
    {
      "cell_type": "code",
      "source": [
        "from sklearn.preprocessing import LabelEncoder\n",
        "from keras.utils import np_utils\n",
        "\n",
        "label_enconder = LabelEncoder()\n",
        "y = label_enconder.fit_transform(all_label)\n",
        "classes = list(label_enconder.classes_)\n",
        "classes\n",
        "y = np_utils.to_categorical(y, num_classes=len(labels))"
      ],
      "metadata": {
        "id": "9GSv8wYvt8_y"
      },
      "execution_count": 4,
      "outputs": []
    },
    {
      "cell_type": "code",
      "source": [
        "all_wave = np.array(all_wave).reshape(-1,8000,1)"
      ],
      "metadata": {
        "id": "SnIZdg5luAYa"
      },
      "execution_count": 5,
      "outputs": []
    },
    {
      "cell_type": "code",
      "source": [
        "from sklearn.model_selection import train_test_split\n",
        "x_train, x_valid, y_train, y_valid = train_test_split(np.array(all_wave),np.array(y),stratify=y,test_size = 0.2,random_state=777,shuffle=True)"
      ],
      "metadata": {
        "id": "qsIkDLP2uDDw"
      },
      "execution_count": 6,
      "outputs": []
    },
    {
      "cell_type": "code",
      "source": [
        "from keras.layers import Bidirectional, BatchNormalization, CuDNNGRU, TimeDistributed"
      ],
      "metadata": {
        "id": "WIg1rwmauGlg"
      },
      "execution_count": 7,
      "outputs": []
    },
    {
      "cell_type": "code",
      "source": [
        "from keras.layers import Dense, Dropout, Flatten, Conv1D, Input, MaxPooling1D\n",
        "from keras.models import Model\n",
        "from keras.callbacks import EarlyStopping, ModelCheckpoint\n",
        "from keras import backend as K\n",
        "K.clear_session()\n",
        "\n",
        "inputs = Input(shape=(8000,1))\n",
        "x = BatchNormalization(axis=-1, momentum=0.99, epsilon=1e-3, center=True, scale=True)(inputs)\n",
        "\n",
        "#First Conv1D layer\n",
        "x = Conv1D(8,13, padding='valid', activation='relu', strides=1)(x)\n",
        "x = MaxPooling1D(3)(x)\n",
        "x = Dropout(0.3)(x)\n",
        "\n",
        "#Second Conv1D layer\n",
        "x = Conv1D(16, 11, padding='valid', activation='relu', strides=1)(x)\n",
        "x = MaxPooling1D(3)(x)\n",
        "x = Dropout(0.3)(x)\n",
        "\n",
        "#Third Conv1D layer\n",
        "x = Conv1D(32, 9, padding='valid', activation='relu', strides=1)(x)\n",
        "x = MaxPooling1D(3)(x)\n",
        "x = Dropout(0.3)(x)\n",
        "\n",
        "x = BatchNormalization(axis=-1, momentum=0.99, epsilon=1e-3, center=True, scale=True)(x)\n",
        "x = Bidirectional(CuDNNGRU(128, return_sequences=True), merge_mode='sum')(x)\n",
        "x = Bidirectional(CuDNNGRU(128, return_sequences=True), merge_mode='sum')(x)\n",
        "x = Bidirectional(CuDNNGRU(128, return_sequences=False), merge_mode='sum')(x)\n",
        "\n",
        "x = BatchNormalization(axis=-1, momentum=0.99, epsilon=1e-3, center=True, scale=True)(x)\n",
        "\n",
        "#Flatten layer\n",
        "# x = Flatten()(x)\n",
        "\n",
        "#Dense Layer 1\n",
        "x = Dense(256, activation='relu')(x)\n",
        "outputs = Dense(len(labels), activation=\"softmax\")(x)\n",
        "\n",
        "model = Model(inputs, outputs)\n",
        "model.summary()"
      ],
      "metadata": {
        "colab": {
          "base_uri": "https://localhost:8080/"
        },
        "id": "zn8mVBfPuJJL",
        "outputId": "29798252-fee4-43d9-8357-b9c4c179a1ea"
      },
      "execution_count": 8,
      "outputs": [
        {
          "output_type": "stream",
          "name": "stdout",
          "text": [
            "Model: \"model\"\n",
            "_________________________________________________________________\n",
            " Layer (type)                Output Shape              Param #   \n",
            "=================================================================\n",
            " input_1 (InputLayer)        [(None, 8000, 1)]         0         \n",
            "                                                                 \n",
            " batch_normalization (BatchN  (None, 8000, 1)          4         \n",
            " ormalization)                                                   \n",
            "                                                                 \n",
            " conv1d (Conv1D)             (None, 7988, 8)           112       \n",
            "                                                                 \n",
            " max_pooling1d (MaxPooling1D  (None, 2662, 8)          0         \n",
            " )                                                               \n",
            "                                                                 \n",
            " dropout (Dropout)           (None, 2662, 8)           0         \n",
            "                                                                 \n",
            " conv1d_1 (Conv1D)           (None, 2652, 16)          1424      \n",
            "                                                                 \n",
            " max_pooling1d_1 (MaxPooling  (None, 884, 16)          0         \n",
            " 1D)                                                             \n",
            "                                                                 \n",
            " dropout_1 (Dropout)         (None, 884, 16)           0         \n",
            "                                                                 \n",
            " conv1d_2 (Conv1D)           (None, 876, 32)           4640      \n",
            "                                                                 \n",
            " max_pooling1d_2 (MaxPooling  (None, 292, 32)          0         \n",
            " 1D)                                                             \n",
            "                                                                 \n",
            " dropout_2 (Dropout)         (None, 292, 32)           0         \n",
            "                                                                 \n",
            " batch_normalization_1 (Batc  (None, 292, 32)          128       \n",
            " hNormalization)                                                 \n",
            "                                                                 \n",
            " bidirectional (Bidirectiona  (None, 292, 128)         124416    \n",
            " l)                                                              \n",
            "                                                                 \n",
            " bidirectional_1 (Bidirectio  (None, 292, 128)         198144    \n",
            " nal)                                                            \n",
            "                                                                 \n",
            " bidirectional_2 (Bidirectio  (None, 128)              198144    \n",
            " nal)                                                            \n",
            "                                                                 \n",
            " batch_normalization_2 (Batc  (None, 128)              512       \n",
            " hNormalization)                                                 \n",
            "                                                                 \n",
            " dense (Dense)               (None, 256)               33024     \n",
            "                                                                 \n",
            " dense_1 (Dense)             (None, 3)                 771       \n",
            "                                                                 \n",
            "=================================================================\n",
            "Total params: 561,319\n",
            "Trainable params: 560,997\n",
            "Non-trainable params: 322\n",
            "_________________________________________________________________\n"
          ]
        }
      ]
    },
    {
      "cell_type": "code",
      "source": [
        "model.compile(loss='categorical_crossentropy',optimizer='adam',metrics=['accuracy'])"
      ],
      "metadata": {
        "id": "Qdd4YTKguRGK"
      },
      "execution_count": 9,
      "outputs": []
    },
    {
      "cell_type": "code",
      "source": [
        "early_stop = EarlyStopping(monitor='val_loss', mode='min', \n",
        "                           verbose=1, patience=10, min_delta=0.0001)\n",
        "\n",
        "checkpoint = ModelCheckpoint('speech2text_model.hdf5', monitor='val_acc', \n",
        "                             verbose=1, save_best_only=True, mode='max')"
      ],
      "metadata": {
        "id": "YLwGA8MtuT87"
      },
      "execution_count": 10,
      "outputs": []
    },
    {
      "cell_type": "code",
      "source": [
        "hist = model.fit(\n",
        "    x=x_train, \n",
        "    y=y_train,\n",
        "    epochs=3, \n",
        "    callbacks=[early_stop, checkpoint], \n",
        "    batch_size=32, \n",
        "    validation_data=(x_valid,y_valid)\n",
        ")"
      ],
      "metadata": {
        "colab": {
          "base_uri": "https://localhost:8080/"
        },
        "id": "aJXyVXgauXJR",
        "outputId": "acc11300-8544-40df-dbb5-7f7410cd41c1"
      },
      "execution_count": 11,
      "outputs": [
        {
          "output_type": "stream",
          "name": "stdout",
          "text": [
            "Epoch 1/3\n",
            "1/1 [==============================] - ETA: 0s - loss: 1.1049 - accuracy: 0.3125"
          ]
        },
        {
          "output_type": "stream",
          "name": "stderr",
          "text": [
            "WARNING:tensorflow:Can save best model only with val_acc available, skipping.\n"
          ]
        },
        {
          "output_type": "stream",
          "name": "stdout",
          "text": [
            "\b\b\b\b\b\b\b\b\b\b\b\b\b\b\b\b\b\b\b\b\b\b\b\b\b\b\b\b\b\b\b\b\b\b\b\b\b\b\b\b\b\b\b\b\b\b\b\b\b\b\b\b\b\b\b\b\b\b\b\b\b\b\b\b\b\b\b\b\b\b\b\b\b\b\b\b\b\b\b\b\r1/1 [==============================] - 12s 12s/step - loss: 1.1049 - accuracy: 0.3125 - val_loss: 1.0968 - val_accuracy: 0.5000\n",
            "Epoch 2/3\n",
            "1/1 [==============================] - ETA: 0s - loss: 1.0527 - accuracy: 0.5625"
          ]
        },
        {
          "output_type": "stream",
          "name": "stderr",
          "text": [
            "WARNING:tensorflow:Can save best model only with val_acc available, skipping.\n"
          ]
        },
        {
          "output_type": "stream",
          "name": "stdout",
          "text": [
            "\b\b\b\b\b\b\b\b\b\b\b\b\b\b\b\b\b\b\b\b\b\b\b\b\b\b\b\b\b\b\b\b\b\b\b\b\b\b\b\b\b\b\b\b\b\b\b\b\b\b\b\b\b\b\b\b\b\b\b\b\b\b\b\b\b\b\b\b\b\b\b\b\b\b\b\b\b\b\b\b\r1/1 [==============================] - 0s 124ms/step - loss: 1.0527 - accuracy: 0.5625 - val_loss: 1.0935 - val_accuracy: 0.5000\n",
            "Epoch 3/3\n",
            "1/1 [==============================] - ETA: 0s - loss: 1.0287 - accuracy: 0.5000"
          ]
        },
        {
          "output_type": "stream",
          "name": "stderr",
          "text": [
            "WARNING:tensorflow:Can save best model only with val_acc available, skipping.\n"
          ]
        },
        {
          "output_type": "stream",
          "name": "stdout",
          "text": [
            "\b\b\b\b\b\b\b\b\b\b\b\b\b\b\b\b\b\b\b\b\b\b\b\b\b\b\b\b\b\b\b\b\b\b\b\b\b\b\b\b\b\b\b\b\b\b\b\b\b\b\b\b\b\b\b\b\b\b\b\b\b\b\b\b\b\b\b\b\b\b\b\b\b\b\b\b\b\b\b\b\r1/1 [==============================] - 0s 117ms/step - loss: 1.0287 - accuracy: 0.5000 - val_loss: 1.0876 - val_accuracy: 0.5000\n"
          ]
        }
      ]
    },
    {
      "cell_type": "code",
      "source": [
        "model.save('speech2text_model.hdf5')"
      ],
      "metadata": {
        "id": "RG9WxD2Buahu"
      },
      "execution_count": 12,
      "outputs": []
    },
    {
      "cell_type": "code",
      "source": [
        "from keras.models import load_model\n",
        "model = load_model('speech2text_model.hdf5')"
      ],
      "metadata": {
        "id": "MKK1-B-AubIO"
      },
      "execution_count": 13,
      "outputs": []
    },
    {
      "cell_type": "code",
      "source": [
        "def s2t_predict(audio, shape_num=8000):\n",
        "    prob = model.predict(audio.reshape(1,-1,1))   #audio.reshape((1, -1, 1))\n",
        "    index = np.argmax(prob[0])\n",
        "    return classes[index]"
      ],
      "metadata": {
        "id": "X7kXeMrgudkL"
      },
      "execution_count": 17,
      "outputs": []
    },
    {
      "cell_type": "code",
      "source": [
        "audio, audio_rate = librosa.load('0a2b400e_nohash_2.wav')\n",
        "audio_sample = librosa.resample(audio, audio_rate, 8000)\n",
        "ipd.Audio(audio_sample,rate=8000)\n",
        "audio_sample"
      ],
      "metadata": {
        "colab": {
          "base_uri": "https://localhost:8080/"
        },
        "id": "G8JT47Wpuf0B",
        "outputId": "a4194566-415c-4be4-c6c1-0887f61b2ba2"
      },
      "execution_count": 19,
      "outputs": [
        {
          "output_type": "execute_result",
          "data": {
            "text/plain": [
              "array([-4.1024570e-05, -9.9386401e-05, -6.5733962e-05, ...,\n",
              "        1.2794257e-05,  1.4792475e-05,  2.3976547e-05], dtype=float32)"
            ]
          },
          "metadata": {},
          "execution_count": 19
        }
      ]
    },
    {
      "cell_type": "code",
      "source": [
        "print(\"Predicted Text:\", s2t_predict(audio_sample))"
      ],
      "metadata": {
        "colab": {
          "base_uri": "https://localhost:8080/"
        },
        "id": "vucCEhKEuikC",
        "outputId": "e997dc0e-6ca2-4880-8457-2c20bdd130c4"
      },
      "execution_count": 20,
      "outputs": [
        {
          "output_type": "stream",
          "name": "stdout",
          "text": [
            "1/1 [==============================] - 1s 683ms/step\n",
            "Predicted Text: left\n"
          ]
        }
      ]
    }
  ]
}