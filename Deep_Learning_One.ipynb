{
  "nbformat": 4,
  "nbformat_minor": 0,
  "metadata": {
    "colab": {
      "provenance": [],
      "authorship_tag": "ABX9TyNtttn2BRMhFyvhASzzlg/E",
      "include_colab_link": true
    },
    "kernelspec": {
      "name": "python3",
      "display_name": "Python 3"
    },
    "language_info": {
      "name": "python"
    }
  },
  "cells": [
    {
      "cell_type": "markdown",
      "metadata": {
        "id": "view-in-github",
        "colab_type": "text"
      },
      "source": [
        "<a href=\"https://colab.research.google.com/github/ProfKaromo/Data_Science_Codes/blob/main/Deep_Learning_One.ipynb\" target=\"_parent\"><img src=\"https://colab.research.google.com/assets/colab-badge.svg\" alt=\"Open In Colab\"/></a>"
      ]
    },
    {
      "cell_type": "code",
      "execution_count": 12,
      "metadata": {
        "colab": {
          "base_uri": "https://localhost:8080/",
          "height": 206
        },
        "id": "o1vHbdwXAPa4",
        "outputId": "7cfb926c-2ca5-4ef2-a038-35f9fe15043a"
      },
      "outputs": [
        {
          "output_type": "execute_result",
          "data": {
            "text/plain": [
              "      TV  Radio  Newspaper  Sales\n",
              "0  230.1   37.8       69.2   22.1\n",
              "1   44.5   39.3       45.1   10.4\n",
              "2   17.2   45.9       69.3    9.3\n",
              "3  151.5   41.3       58.5   18.5\n",
              "4  180.8   10.8       58.4   12.9"
            ],
            "text/html": [
              "\n",
              "  <div id=\"df-656df269-7479-463f-aed2-9d2a0a0019e4\">\n",
              "    <div class=\"colab-df-container\">\n",
              "      <div>\n",
              "<style scoped>\n",
              "    .dataframe tbody tr th:only-of-type {\n",
              "        vertical-align: middle;\n",
              "    }\n",
              "\n",
              "    .dataframe tbody tr th {\n",
              "        vertical-align: top;\n",
              "    }\n",
              "\n",
              "    .dataframe thead th {\n",
              "        text-align: right;\n",
              "    }\n",
              "</style>\n",
              "<table border=\"1\" class=\"dataframe\">\n",
              "  <thead>\n",
              "    <tr style=\"text-align: right;\">\n",
              "      <th></th>\n",
              "      <th>TV</th>\n",
              "      <th>Radio</th>\n",
              "      <th>Newspaper</th>\n",
              "      <th>Sales</th>\n",
              "    </tr>\n",
              "  </thead>\n",
              "  <tbody>\n",
              "    <tr>\n",
              "      <th>0</th>\n",
              "      <td>230.1</td>\n",
              "      <td>37.8</td>\n",
              "      <td>69.2</td>\n",
              "      <td>22.1</td>\n",
              "    </tr>\n",
              "    <tr>\n",
              "      <th>1</th>\n",
              "      <td>44.5</td>\n",
              "      <td>39.3</td>\n",
              "      <td>45.1</td>\n",
              "      <td>10.4</td>\n",
              "    </tr>\n",
              "    <tr>\n",
              "      <th>2</th>\n",
              "      <td>17.2</td>\n",
              "      <td>45.9</td>\n",
              "      <td>69.3</td>\n",
              "      <td>9.3</td>\n",
              "    </tr>\n",
              "    <tr>\n",
              "      <th>3</th>\n",
              "      <td>151.5</td>\n",
              "      <td>41.3</td>\n",
              "      <td>58.5</td>\n",
              "      <td>18.5</td>\n",
              "    </tr>\n",
              "    <tr>\n",
              "      <th>4</th>\n",
              "      <td>180.8</td>\n",
              "      <td>10.8</td>\n",
              "      <td>58.4</td>\n",
              "      <td>12.9</td>\n",
              "    </tr>\n",
              "  </tbody>\n",
              "</table>\n",
              "</div>\n",
              "      <button class=\"colab-df-convert\" onclick=\"convertToInteractive('df-656df269-7479-463f-aed2-9d2a0a0019e4')\"\n",
              "              title=\"Convert this dataframe to an interactive table.\"\n",
              "              style=\"display:none;\">\n",
              "        \n",
              "  <svg xmlns=\"http://www.w3.org/2000/svg\" height=\"24px\"viewBox=\"0 0 24 24\"\n",
              "       width=\"24px\">\n",
              "    <path d=\"M0 0h24v24H0V0z\" fill=\"none\"/>\n",
              "    <path d=\"M18.56 5.44l.94 2.06.94-2.06 2.06-.94-2.06-.94-.94-2.06-.94 2.06-2.06.94zm-11 1L8.5 8.5l.94-2.06 2.06-.94-2.06-.94L8.5 2.5l-.94 2.06-2.06.94zm10 10l.94 2.06.94-2.06 2.06-.94-2.06-.94-.94-2.06-.94 2.06-2.06.94z\"/><path d=\"M17.41 7.96l-1.37-1.37c-.4-.4-.92-.59-1.43-.59-.52 0-1.04.2-1.43.59L10.3 9.45l-7.72 7.72c-.78.78-.78 2.05 0 2.83L4 21.41c.39.39.9.59 1.41.59.51 0 1.02-.2 1.41-.59l7.78-7.78 2.81-2.81c.8-.78.8-2.07 0-2.86zM5.41 20L4 18.59l7.72-7.72 1.47 1.35L5.41 20z\"/>\n",
              "  </svg>\n",
              "      </button>\n",
              "      \n",
              "  <style>\n",
              "    .colab-df-container {\n",
              "      display:flex;\n",
              "      flex-wrap:wrap;\n",
              "      gap: 12px;\n",
              "    }\n",
              "\n",
              "    .colab-df-convert {\n",
              "      background-color: #E8F0FE;\n",
              "      border: none;\n",
              "      border-radius: 50%;\n",
              "      cursor: pointer;\n",
              "      display: none;\n",
              "      fill: #1967D2;\n",
              "      height: 32px;\n",
              "      padding: 0 0 0 0;\n",
              "      width: 32px;\n",
              "    }\n",
              "\n",
              "    .colab-df-convert:hover {\n",
              "      background-color: #E2EBFA;\n",
              "      box-shadow: 0px 1px 2px rgba(60, 64, 67, 0.3), 0px 1px 3px 1px rgba(60, 64, 67, 0.15);\n",
              "      fill: #174EA6;\n",
              "    }\n",
              "\n",
              "    [theme=dark] .colab-df-convert {\n",
              "      background-color: #3B4455;\n",
              "      fill: #D2E3FC;\n",
              "    }\n",
              "\n",
              "    [theme=dark] .colab-df-convert:hover {\n",
              "      background-color: #434B5C;\n",
              "      box-shadow: 0px 1px 3px 1px rgba(0, 0, 0, 0.15);\n",
              "      filter: drop-shadow(0px 1px 2px rgba(0, 0, 0, 0.3));\n",
              "      fill: #FFFFFF;\n",
              "    }\n",
              "  </style>\n",
              "\n",
              "      <script>\n",
              "        const buttonEl =\n",
              "          document.querySelector('#df-656df269-7479-463f-aed2-9d2a0a0019e4 button.colab-df-convert');\n",
              "        buttonEl.style.display =\n",
              "          google.colab.kernel.accessAllowed ? 'block' : 'none';\n",
              "\n",
              "        async function convertToInteractive(key) {\n",
              "          const element = document.querySelector('#df-656df269-7479-463f-aed2-9d2a0a0019e4');\n",
              "          const dataTable =\n",
              "            await google.colab.kernel.invokeFunction('convertToInteractive',\n",
              "                                                     [key], {});\n",
              "          if (!dataTable) return;\n",
              "\n",
              "          const docLinkHtml = 'Like what you see? Visit the ' +\n",
              "            '<a target=\"_blank\" href=https://colab.research.google.com/notebooks/data_table.ipynb>data table notebook</a>'\n",
              "            + ' to learn more about interactive tables.';\n",
              "          element.innerHTML = '';\n",
              "          dataTable['output_type'] = 'display_data';\n",
              "          await google.colab.output.renderOutput(dataTable, element);\n",
              "          const docLink = document.createElement('div');\n",
              "          docLink.innerHTML = docLinkHtml;\n",
              "          element.appendChild(docLink);\n",
              "        }\n",
              "      </script>\n",
              "    </div>\n",
              "  </div>\n",
              "  "
            ]
          },
          "metadata": {},
          "execution_count": 12
        }
      ],
      "source": [
        "# Regression\n",
        "import pandas\n",
        "data = pandas.read_csv(\"https://modcom.co.ke/datasets/Advertising.csv\")\n",
        "data.head()"
      ]
    },
    {
      "cell_type": "code",
      "source": [
        "array = data.values\n",
        "X = array[:, 0:3]  # TV, Radio, Newspaper\n",
        "Y = array[:, 3]  # Sales"
      ],
      "metadata": {
        "id": "QfXZIsgTChQO"
      },
      "execution_count": 13,
      "outputs": []
    },
    {
      "cell_type": "code",
      "source": [
        "from sklearn import model_selection\n",
        "X_train, X_test, Y_train, Y_test = model_selection.train_test_split(X, Y,\n",
        "                                                                    test_size=0.30,\n",
        "                                                                    random_state=42)"
      ],
      "metadata": {
        "id": "pG52b0jPCkIL"
      },
      "execution_count": 14,
      "outputs": []
    },
    {
      "cell_type": "code",
      "source": [
        "# Creare an Artificial Neural Network- ANN\n",
        "from keras.models import Sequential\n",
        "from keras.layers import Dense, Dropout, Flatten\n",
        "# model = Sequential()\n",
        "# # Input Layer\n",
        "# model.add(Dense(6, input_dim = 3, activation = \"relu\"))\n",
        "# # 1 Hidden Layer\n",
        "# model.add(Dense(12, activation = \"sigmoid\"))\n",
        "# # Drop out\n",
        "# model.add(Dropout(0.2))#can comment 1\n",
        "# # Flattening\n",
        "# model.add(Flatten())#can comment 2\n",
        "# # 2 Hidden Layer\n",
        "# model.add(Dense(12, activation = \"sigmoid\"))\n",
        "# # Output Layer\n",
        "# # 1 Hidden Layer\n",
        "# model.add(Dense(1))\n",
        "\n",
        "model = Sequential()\n",
        "# Input Layer\n",
        "model.add(Dense(500, input_dim = 3, activation = \"relu\"))\n",
        "# 1 Hidden Layer\n",
        "model.add(Dense(100, activation = \"relu\"))\n",
        "# Drop out\n",
        "#model.add(Dropout(0.2))\n",
        "# Flattening\n",
        "#model.add(Flatten())\n",
        "# 2 Hidden Layer\n",
        "model.add(Dense(50, activation = \"relu\"))\n",
        "model.add(Dense(50, activation = \"relu\"))\n",
        "# Output Layer\n",
        "# 1 Hidden Layer\n",
        "model.add(Dense(1))"
      ],
      "metadata": {
        "id": "RStW7zwbIw0N"
      },
      "execution_count": 15,
      "outputs": []
    },
    {
      "cell_type": "code",
      "source": [
        "#!pip install ann_visualizer"
      ],
      "metadata": {
        "id": "oKKaLlDBI3wd"
      },
      "execution_count": null,
      "outputs": []
    },
    {
      "cell_type": "code",
      "source": [
        "from ann_visualizer.visualize import ann_viz\n",
        "ann_viz(model, view = True, title = \"My Neural Net\", filename='ANN.gv')"
      ],
      "metadata": {
        "id": "a5wqTqJQI6c9"
      },
      "execution_count": 17,
      "outputs": []
    },
    {
      "cell_type": "code",
      "source": [
        "# Compile\n",
        "model.compile(loss=\"mean_squared_error\", optimizer='adam', metrics = ['mae', 'mape'])"
      ],
      "metadata": {
        "id": "HYLBPI-6QCiw"
      },
      "execution_count": 18,
      "outputs": []
    },
    {
      "cell_type": "code",
      "source": [
        "# Fit data\n",
        "# Epoch = number of times ANN runs with full training data/cycle\n",
        "# Batches - how batches per cycle  , 4, 8, 16, 32, 64\n",
        "model.fit(X_train, Y_train, epochs = 50, batch_size= 32)\n",
        "# Save the model"
      ],
      "metadata": {
        "colab": {
          "base_uri": "https://localhost:8080/"
        },
        "id": "QCn98mS8QF4w",
        "outputId": "4cc89b40-1c95-41ba-9d9b-ed0ce4ee1104"
      },
      "execution_count": 19,
      "outputs": [
        {
          "output_type": "stream",
          "name": "stdout",
          "text": [
            "Epoch 1/50\n",
            "5/5 [==============================] - 1s 4ms/step - loss: 209.9304 - mae: 12.2134 - mape: 85.3677\n",
            "Epoch 2/50\n",
            "5/5 [==============================] - 0s 5ms/step - loss: 23.5037 - mae: 3.6194 - mape: 28.4960\n",
            "Epoch 3/50\n",
            "5/5 [==============================] - 0s 6ms/step - loss: 14.6322 - mae: 2.8966 - mape: 23.1605\n",
            "Epoch 4/50\n",
            "5/5 [==============================] - 0s 4ms/step - loss: 12.3384 - mae: 2.9928 - mape: 22.7835\n",
            "Epoch 5/50\n",
            "5/5 [==============================] - 0s 4ms/step - loss: 9.9797 - mae: 2.3970 - mape: 19.9756\n",
            "Epoch 6/50\n",
            "5/5 [==============================] - 0s 4ms/step - loss: 7.6456 - mae: 2.3704 - mape: 19.2347\n",
            "Epoch 7/50\n",
            "5/5 [==============================] - 0s 4ms/step - loss: 5.5709 - mae: 1.8888 - mape: 16.3027\n",
            "Epoch 8/50\n",
            "5/5 [==============================] - 0s 4ms/step - loss: 4.5624 - mae: 1.7865 - mape: 15.3606\n",
            "Epoch 9/50\n",
            "5/5 [==============================] - 0s 4ms/step - loss: 3.3084 - mae: 1.5030 - mape: 13.6486\n",
            "Epoch 10/50\n",
            "5/5 [==============================] - 0s 4ms/step - loss: 2.7256 - mae: 1.3396 - mape: 12.3941\n",
            "Epoch 11/50\n",
            "5/5 [==============================] - 0s 6ms/step - loss: 2.7896 - mae: 1.3403 - mape: 12.6513\n",
            "Epoch 12/50\n",
            "5/5 [==============================] - 0s 4ms/step - loss: 2.4710 - mae: 1.2070 - mape: 11.6784\n",
            "Epoch 13/50\n",
            "5/5 [==============================] - 0s 3ms/step - loss: 2.2485 - mae: 1.1189 - mape: 11.0119\n",
            "Epoch 14/50\n",
            "5/5 [==============================] - 0s 3ms/step - loss: 2.1485 - mae: 1.0847 - mape: 10.6759\n",
            "Epoch 15/50\n",
            "5/5 [==============================] - 0s 4ms/step - loss: 2.1061 - mae: 1.1360 - mape: 10.7592\n",
            "Epoch 16/50\n",
            "5/5 [==============================] - 0s 4ms/step - loss: 2.2066 - mae: 1.1172 - mape: 10.6959\n",
            "Epoch 17/50\n",
            "5/5 [==============================] - 0s 4ms/step - loss: 1.9879 - mae: 1.0559 - mape: 9.9420\n",
            "Epoch 18/50\n",
            "5/5 [==============================] - 0s 4ms/step - loss: 2.0349 - mae: 1.0413 - mape: 9.8404\n",
            "Epoch 19/50\n",
            "5/5 [==============================] - 0s 4ms/step - loss: 2.0127 - mae: 1.0218 - mape: 9.7135\n",
            "Epoch 20/50\n",
            "5/5 [==============================] - 0s 4ms/step - loss: 2.0196 - mae: 1.0986 - mape: 9.7610\n",
            "Epoch 21/50\n",
            "5/5 [==============================] - 0s 4ms/step - loss: 1.9949 - mae: 1.0226 - mape: 9.4960\n",
            "Epoch 22/50\n",
            "5/5 [==============================] - 0s 5ms/step - loss: 1.9547 - mae: 1.0670 - mape: 9.5465\n",
            "Epoch 23/50\n",
            "5/5 [==============================] - 0s 4ms/step - loss: 1.8919 - mae: 0.9989 - mape: 9.1678\n",
            "Epoch 24/50\n",
            "5/5 [==============================] - 0s 4ms/step - loss: 1.7712 - mae: 0.9544 - mape: 8.7832\n",
            "Epoch 25/50\n",
            "5/5 [==============================] - 0s 4ms/step - loss: 1.7609 - mae: 0.9389 - mape: 8.6620\n",
            "Epoch 26/50\n",
            "5/5 [==============================] - 0s 4ms/step - loss: 1.7849 - mae: 0.9363 - mape: 8.7674\n",
            "Epoch 27/50\n",
            "5/5 [==============================] - 0s 4ms/step - loss: 1.7726 - mae: 0.9790 - mape: 8.9405\n",
            "Epoch 28/50\n",
            "5/5 [==============================] - 0s 4ms/step - loss: 1.6723 - mae: 0.9082 - mape: 8.5092\n",
            "Epoch 29/50\n",
            "5/5 [==============================] - 0s 4ms/step - loss: 1.7400 - mae: 1.0170 - mape: 8.8607\n",
            "Epoch 30/50\n",
            "5/5 [==============================] - 0s 4ms/step - loss: 1.9696 - mae: 1.0675 - mape: 9.2883\n",
            "Epoch 31/50\n",
            "5/5 [==============================] - 0s 4ms/step - loss: 2.1791 - mae: 1.1445 - mape: 9.7377\n",
            "Epoch 32/50\n",
            "5/5 [==============================] - 0s 4ms/step - loss: 1.8710 - mae: 1.0498 - mape: 9.0004\n",
            "Epoch 33/50\n",
            "5/5 [==============================] - 0s 4ms/step - loss: 1.7588 - mae: 0.9635 - mape: 8.6643\n",
            "Epoch 34/50\n",
            "5/5 [==============================] - 0s 4ms/step - loss: 1.6528 - mae: 0.8929 - mape: 8.1852\n",
            "Epoch 35/50\n",
            "5/5 [==============================] - 0s 4ms/step - loss: 1.6431 - mae: 0.9541 - mape: 8.4271\n",
            "Epoch 36/50\n",
            "5/5 [==============================] - 0s 4ms/step - loss: 1.8514 - mae: 0.9809 - mape: 8.7520\n",
            "Epoch 37/50\n",
            "5/5 [==============================] - 0s 5ms/step - loss: 1.7444 - mae: 0.9778 - mape: 8.5553\n",
            "Epoch 38/50\n",
            "5/5 [==============================] - 0s 5ms/step - loss: 1.7131 - mae: 0.9790 - mape: 8.3801\n",
            "Epoch 39/50\n",
            "5/5 [==============================] - 0s 3ms/step - loss: 1.9687 - mae: 1.0542 - mape: 9.0308\n",
            "Epoch 40/50\n",
            "5/5 [==============================] - 0s 4ms/step - loss: 1.6598 - mae: 0.9156 - mape: 8.3637\n",
            "Epoch 41/50\n",
            "5/5 [==============================] - 0s 4ms/step - loss: 1.6183 - mae: 0.9622 - mape: 8.2562\n",
            "Epoch 42/50\n",
            "5/5 [==============================] - 0s 4ms/step - loss: 1.9149 - mae: 1.0330 - mape: 8.7933\n",
            "Epoch 43/50\n",
            "5/5 [==============================] - 0s 5ms/step - loss: 1.6909 - mae: 0.9325 - mape: 8.3238\n",
            "Epoch 44/50\n",
            "5/5 [==============================] - 0s 5ms/step - loss: 2.1972 - mae: 1.1776 - mape: 9.7869\n",
            "Epoch 45/50\n",
            "5/5 [==============================] - 0s 4ms/step - loss: 1.7257 - mae: 1.0024 - mape: 8.4631\n",
            "Epoch 46/50\n",
            "5/5 [==============================] - 0s 4ms/step - loss: 1.4812 - mae: 0.8458 - mape: 7.7756\n",
            "Epoch 47/50\n",
            "5/5 [==============================] - 0s 4ms/step - loss: 1.4768 - mae: 0.8634 - mape: 7.8447\n",
            "Epoch 48/50\n",
            "5/5 [==============================] - 0s 4ms/step - loss: 1.5154 - mae: 0.8988 - mape: 7.9308\n",
            "Epoch 49/50\n",
            "5/5 [==============================] - 0s 4ms/step - loss: 1.6369 - mae: 0.9302 - mape: 8.3976\n",
            "Epoch 50/50\n",
            "5/5 [==============================] - 0s 6ms/step - loss: 1.6360 - mae: 0.9684 - mape: 8.1598\n"
          ]
        },
        {
          "output_type": "execute_result",
          "data": {
            "text/plain": [
              "<keras.callbacks.History at 0x7f6a91c07670>"
            ]
          },
          "metadata": {},
          "execution_count": 19
        }
      ]
    }
  ]
}