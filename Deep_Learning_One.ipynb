{
  "nbformat": 4,
  "nbformat_minor": 0,
  "metadata": {
    "colab": {
      "provenance": [],
      "authorship_tag": "ABX9TyOE1uPhEVMrhsjImCjfC5sm",
      "include_colab_link": true
    },
    "kernelspec": {
      "name": "python3",
      "display_name": "Python 3"
    },
    "language_info": {
      "name": "python"
    }
  },
  "cells": [
    {
      "cell_type": "markdown",
      "metadata": {
        "id": "view-in-github",
        "colab_type": "text"
      },
      "source": [
        "<a href=\"https://colab.research.google.com/github/ProfKaromo/Data_Science_Codes/blob/main/Deep_Learning_One.ipynb\" target=\"_parent\"><img src=\"https://colab.research.google.com/assets/colab-badge.svg\" alt=\"Open In Colab\"/></a>"
      ]
    },
    {
      "cell_type": "code",
      "execution_count": 43,
      "metadata": {
        "colab": {
          "base_uri": "https://localhost:8080/",
          "height": 206
        },
        "id": "o1vHbdwXAPa4",
        "outputId": "6f590de6-fe02-4800-9d04-96c44be08303"
      },
      "outputs": [
        {
          "output_type": "execute_result",
          "data": {
            "text/plain": [
              "      TV  Radio  Newspaper  Sales\n",
              "0  230.1   37.8       69.2   22.1\n",
              "1   44.5   39.3       45.1   10.4\n",
              "2   17.2   45.9       69.3    9.3\n",
              "3  151.5   41.3       58.5   18.5\n",
              "4  180.8   10.8       58.4   12.9"
            ],
            "text/html": [
              "\n",
              "  <div id=\"df-d7a11708-e84a-4c53-bd0b-c93b35ada74c\">\n",
              "    <div class=\"colab-df-container\">\n",
              "      <div>\n",
              "<style scoped>\n",
              "    .dataframe tbody tr th:only-of-type {\n",
              "        vertical-align: middle;\n",
              "    }\n",
              "\n",
              "    .dataframe tbody tr th {\n",
              "        vertical-align: top;\n",
              "    }\n",
              "\n",
              "    .dataframe thead th {\n",
              "        text-align: right;\n",
              "    }\n",
              "</style>\n",
              "<table border=\"1\" class=\"dataframe\">\n",
              "  <thead>\n",
              "    <tr style=\"text-align: right;\">\n",
              "      <th></th>\n",
              "      <th>TV</th>\n",
              "      <th>Radio</th>\n",
              "      <th>Newspaper</th>\n",
              "      <th>Sales</th>\n",
              "    </tr>\n",
              "  </thead>\n",
              "  <tbody>\n",
              "    <tr>\n",
              "      <th>0</th>\n",
              "      <td>230.1</td>\n",
              "      <td>37.8</td>\n",
              "      <td>69.2</td>\n",
              "      <td>22.1</td>\n",
              "    </tr>\n",
              "    <tr>\n",
              "      <th>1</th>\n",
              "      <td>44.5</td>\n",
              "      <td>39.3</td>\n",
              "      <td>45.1</td>\n",
              "      <td>10.4</td>\n",
              "    </tr>\n",
              "    <tr>\n",
              "      <th>2</th>\n",
              "      <td>17.2</td>\n",
              "      <td>45.9</td>\n",
              "      <td>69.3</td>\n",
              "      <td>9.3</td>\n",
              "    </tr>\n",
              "    <tr>\n",
              "      <th>3</th>\n",
              "      <td>151.5</td>\n",
              "      <td>41.3</td>\n",
              "      <td>58.5</td>\n",
              "      <td>18.5</td>\n",
              "    </tr>\n",
              "    <tr>\n",
              "      <th>4</th>\n",
              "      <td>180.8</td>\n",
              "      <td>10.8</td>\n",
              "      <td>58.4</td>\n",
              "      <td>12.9</td>\n",
              "    </tr>\n",
              "  </tbody>\n",
              "</table>\n",
              "</div>\n",
              "      <button class=\"colab-df-convert\" onclick=\"convertToInteractive('df-d7a11708-e84a-4c53-bd0b-c93b35ada74c')\"\n",
              "              title=\"Convert this dataframe to an interactive table.\"\n",
              "              style=\"display:none;\">\n",
              "        \n",
              "  <svg xmlns=\"http://www.w3.org/2000/svg\" height=\"24px\"viewBox=\"0 0 24 24\"\n",
              "       width=\"24px\">\n",
              "    <path d=\"M0 0h24v24H0V0z\" fill=\"none\"/>\n",
              "    <path d=\"M18.56 5.44l.94 2.06.94-2.06 2.06-.94-2.06-.94-.94-2.06-.94 2.06-2.06.94zm-11 1L8.5 8.5l.94-2.06 2.06-.94-2.06-.94L8.5 2.5l-.94 2.06-2.06.94zm10 10l.94 2.06.94-2.06 2.06-.94-2.06-.94-.94-2.06-.94 2.06-2.06.94z\"/><path d=\"M17.41 7.96l-1.37-1.37c-.4-.4-.92-.59-1.43-.59-.52 0-1.04.2-1.43.59L10.3 9.45l-7.72 7.72c-.78.78-.78 2.05 0 2.83L4 21.41c.39.39.9.59 1.41.59.51 0 1.02-.2 1.41-.59l7.78-7.78 2.81-2.81c.8-.78.8-2.07 0-2.86zM5.41 20L4 18.59l7.72-7.72 1.47 1.35L5.41 20z\"/>\n",
              "  </svg>\n",
              "      </button>\n",
              "      \n",
              "  <style>\n",
              "    .colab-df-container {\n",
              "      display:flex;\n",
              "      flex-wrap:wrap;\n",
              "      gap: 12px;\n",
              "    }\n",
              "\n",
              "    .colab-df-convert {\n",
              "      background-color: #E8F0FE;\n",
              "      border: none;\n",
              "      border-radius: 50%;\n",
              "      cursor: pointer;\n",
              "      display: none;\n",
              "      fill: #1967D2;\n",
              "      height: 32px;\n",
              "      padding: 0 0 0 0;\n",
              "      width: 32px;\n",
              "    }\n",
              "\n",
              "    .colab-df-convert:hover {\n",
              "      background-color: #E2EBFA;\n",
              "      box-shadow: 0px 1px 2px rgba(60, 64, 67, 0.3), 0px 1px 3px 1px rgba(60, 64, 67, 0.15);\n",
              "      fill: #174EA6;\n",
              "    }\n",
              "\n",
              "    [theme=dark] .colab-df-convert {\n",
              "      background-color: #3B4455;\n",
              "      fill: #D2E3FC;\n",
              "    }\n",
              "\n",
              "    [theme=dark] .colab-df-convert:hover {\n",
              "      background-color: #434B5C;\n",
              "      box-shadow: 0px 1px 3px 1px rgba(0, 0, 0, 0.15);\n",
              "      filter: drop-shadow(0px 1px 2px rgba(0, 0, 0, 0.3));\n",
              "      fill: #FFFFFF;\n",
              "    }\n",
              "  </style>\n",
              "\n",
              "      <script>\n",
              "        const buttonEl =\n",
              "          document.querySelector('#df-d7a11708-e84a-4c53-bd0b-c93b35ada74c button.colab-df-convert');\n",
              "        buttonEl.style.display =\n",
              "          google.colab.kernel.accessAllowed ? 'block' : 'none';\n",
              "\n",
              "        async function convertToInteractive(key) {\n",
              "          const element = document.querySelector('#df-d7a11708-e84a-4c53-bd0b-c93b35ada74c');\n",
              "          const dataTable =\n",
              "            await google.colab.kernel.invokeFunction('convertToInteractive',\n",
              "                                                     [key], {});\n",
              "          if (!dataTable) return;\n",
              "\n",
              "          const docLinkHtml = 'Like what you see? Visit the ' +\n",
              "            '<a target=\"_blank\" href=https://colab.research.google.com/notebooks/data_table.ipynb>data table notebook</a>'\n",
              "            + ' to learn more about interactive tables.';\n",
              "          element.innerHTML = '';\n",
              "          dataTable['output_type'] = 'display_data';\n",
              "          await google.colab.output.renderOutput(dataTable, element);\n",
              "          const docLink = document.createElement('div');\n",
              "          docLink.innerHTML = docLinkHtml;\n",
              "          element.appendChild(docLink);\n",
              "        }\n",
              "      </script>\n",
              "    </div>\n",
              "  </div>\n",
              "  "
            ]
          },
          "metadata": {},
          "execution_count": 43
        }
      ],
      "source": [
        "# Regression\n",
        "import pandas\n",
        "data = pandas.read_csv(\"https://modcom.co.ke/datasets/Advertising.csv\")\n",
        "data.head()"
      ]
    },
    {
      "cell_type": "code",
      "source": [
        "array = data.values\n",
        "X = array[:, 0:3]  # TV, Radio, Newspaper\n",
        "Y = array[:, 3]  # Sales"
      ],
      "metadata": {
        "id": "QfXZIsgTChQO"
      },
      "execution_count": 44,
      "outputs": []
    },
    {
      "cell_type": "code",
      "source": [
        "from sklearn import model_selection\n",
        "X_train, X_test, Y_train, Y_test = model_selection.train_test_split(X, Y,\n",
        "                                                                    test_size=0.30,\n",
        "                                                                    random_state=42)"
      ],
      "metadata": {
        "id": "pG52b0jPCkIL"
      },
      "execution_count": 45,
      "outputs": []
    },
    {
      "cell_type": "code",
      "source": [
        "# Creare an Artificial Neural Network- ANN\n",
        "from keras.models import Sequential\n",
        "from keras.layers import Dense, Dropout, Flatten\n",
        "# model = Sequential()\n",
        "# # Input Layer\n",
        "# model.add(Dense(6, input_dim = 3, activation = \"relu\"))\n",
        "# # 1 Hidden Layer\n",
        "# model.add(Dense(12, activation = \"sigmoid\"))\n",
        "# # Drop out\n",
        "# model.add(Dropout(0.2))#can comment 1\n",
        "# # Flattening\n",
        "# model.add(Flatten())#can comment 2\n",
        "# # 2 Hidden Layer\n",
        "# model.add(Dense(12, activation = \"sigmoid\"))\n",
        "# # Output Layer\n",
        "# # 1 Hidden Layer\n",
        "# model.add(Dense(1))\n",
        "\n",
        "model = Sequential()\n",
        "# Input Layer\n",
        "model.add(Dense(500, input_dim = 3, activation = \"relu\"))\n",
        "# 1 Hidden Layer\n",
        "model.add(Dense(100, activation = \"relu\"))\n",
        "# Drop out\n",
        "#model.add(Dropout(0.2))\n",
        "# Flattening\n",
        "#model.add(Flatten())\n",
        "# 2 Hidden Layer\n",
        "model.add(Dense(50, activation = \"relu\"))\n",
        "model.add(Dense(50, activation = \"relu\"))\n",
        "# Output Layer\n",
        "# 1 Hidden Layer\n",
        "model.add(Dense(1))"
      ],
      "metadata": {
        "id": "RStW7zwbIw0N"
      },
      "execution_count": 46,
      "outputs": []
    },
    {
      "cell_type": "code",
      "source": [
        "!pip install ann_visualizer"
      ],
      "metadata": {
        "colab": {
          "base_uri": "https://localhost:8080/"
        },
        "id": "oKKaLlDBI3wd",
        "outputId": "340b41f4-7833-4924-8adc-0acdc0876a97"
      },
      "execution_count": 47,
      "outputs": [
        {
          "output_type": "stream",
          "name": "stdout",
          "text": [
            "Looking in indexes: https://pypi.org/simple, https://us-python.pkg.dev/colab-wheels/public/simple/\n",
            "Requirement already satisfied: ann_visualizer in /usr/local/lib/python3.8/dist-packages (2.5)\n"
          ]
        }
      ]
    },
    {
      "cell_type": "code",
      "source": [
        "from ann_visualizer.visualize import ann_viz\n",
        "ann_viz(model, view = True, title = \"My Neural Net\", filename='ANN.gv')"
      ],
      "metadata": {
        "id": "a5wqTqJQI6c9"
      },
      "execution_count": 48,
      "outputs": []
    },
    {
      "cell_type": "code",
      "source": [
        "# Ways of avoiding overfitting\n",
        "from keras.callbacks import EarlyStopping\n",
        "es = EarlyStopping(monitor='loss',\n",
        "mode = 'min',\n",
        "patience = 10,\n",
        "restore_best_weights=True)"
      ],
      "metadata": {
        "id": "ACRxTolEAjWp"
      },
      "execution_count": 49,
      "outputs": []
    },
    {
      "cell_type": "code",
      "source": [
        "# Model Check point - stores the the model after each epoch.\n",
        "from keras.callbacks import ModelCheckpoint\n",
        "stored_model = \"bestmodel.hdf5\"\n",
        "checkpoint = ModelCheckpoint(stored_model,\n",
        "monitor=\"loss\",\n",
        "verbose=1,\n",
        "save_best_only=True,\n",
        "mode = 'min')"
      ],
      "metadata": {
        "id": "_0f6fzpfBRq8"
      },
      "execution_count": 50,
      "outputs": []
    },
    {
      "cell_type": "code",
      "source": [
        "# Compile\n",
        "model.compile(loss=\"mean_squared_error\", optimizer='adam', metrics = ['mae', 'mape'])"
      ],
      "metadata": {
        "id": "HYLBPI-6QCiw"
      },
      "execution_count": 51,
      "outputs": []
    },
    {
      "cell_type": "code",
      "source": [
        "# Fit data\n",
        "# Epoch = number of times ANN runs with full training data/cycle\n",
        "# Batches - how batches per cycle  , 4, 8, 16, 32, 64\n",
        "model.fit(X_train, Y_train, epochs = 500, batch_size= 32, callbacks = [es, checkpoint])\n",
        "# Save the model\n",
        "# Stop overfitting"
      ],
      "metadata": {
        "colab": {
          "base_uri": "https://localhost:8080/"
        },
        "id": "QCn98mS8QF4w",
        "outputId": "9605a743-7b58-467c-f85e-c7b1b709305d"
      },
      "execution_count": 52,
      "outputs": [
        {
          "output_type": "stream",
          "name": "stdout",
          "text": [
            "Epoch 1/500\n",
            "1/5 [=====>........................] - ETA: 2s - loss: 115.4867 - mae: 10.2198 - mape: 68.2876\n",
            "Epoch 1: loss improved from inf to 43.13129, saving model to bestmodel.hdf5\n",
            "5/5 [==============================] - 1s 23ms/step - loss: 43.1313 - mae: 5.1360 - mape: 38.5849\n",
            "Epoch 2/500\n",
            "1/5 [=====>........................] - ETA: 0s - loss: 11.2275 - mae: 2.6430 - mape: 18.5395\n",
            "Epoch 2: loss improved from 43.13129 to 10.17639, saving model to bestmodel.hdf5\n",
            "5/5 [==============================] - 0s 22ms/step - loss: 10.1764 - mae: 2.7255 - mape: 22.5125\n",
            "Epoch 3/500\n",
            "1/5 [=====>........................] - ETA: 0s - loss: 12.8003 - mae: 2.9653 - mape: 22.7595\n",
            "Epoch 3: loss improved from 10.17639 to 7.09802, saving model to bestmodel.hdf5\n",
            "5/5 [==============================] - 0s 21ms/step - loss: 7.0980 - mae: 2.1120 - mape: 18.7568\n",
            "Epoch 4/500\n",
            "1/5 [=====>........................] - ETA: 0s - loss: 5.7901 - mae: 2.0585 - mape: 15.3726\n",
            "Epoch 4: loss improved from 7.09802 to 5.00801, saving model to bestmodel.hdf5\n",
            "5/5 [==============================] - 0s 13ms/step - loss: 5.0080 - mae: 1.8437 - mape: 16.9016\n",
            "Epoch 5/500\n",
            "1/5 [=====>........................] - ETA: 0s - loss: 4.8771 - mae: 1.7804 - mape: 16.4922\n",
            "Epoch 5: loss improved from 5.00801 to 4.01715, saving model to bestmodel.hdf5\n",
            "5/5 [==============================] - 0s 18ms/step - loss: 4.0172 - mae: 1.6330 - mape: 15.2990\n",
            "Epoch 6/500\n",
            "1/5 [=====>........................] - ETA: 0s - loss: 3.0405 - mae: 1.4451 - mape: 12.4263\n",
            "Epoch 6: loss improved from 4.01715 to 3.47253, saving model to bestmodel.hdf5\n",
            "5/5 [==============================] - 0s 13ms/step - loss: 3.4725 - mae: 1.5172 - mape: 14.1253\n",
            "Epoch 7/500\n",
            "1/5 [=====>........................] - ETA: 0s - loss: 2.9476 - mae: 1.3121 - mape: 11.6812\n",
            "Epoch 7: loss improved from 3.47253 to 2.97848, saving model to bestmodel.hdf5\n",
            "5/5 [==============================] - 0s 13ms/step - loss: 2.9785 - mae: 1.3749 - mape: 12.7414\n",
            "Epoch 8/500\n",
            "1/5 [=====>........................] - ETA: 0s - loss: 3.2646 - mae: 1.3649 - mape: 16.1945\n",
            "Epoch 8: loss improved from 2.97848 to 2.86838, saving model to bestmodel.hdf5\n",
            "5/5 [==============================] - 0s 15ms/step - loss: 2.8684 - mae: 1.2951 - mape: 12.6219\n",
            "Epoch 9/500\n",
            "1/5 [=====>........................] - ETA: 0s - loss: 2.6675 - mae: 1.2150 - mape: 12.2465\n",
            "Epoch 9: loss improved from 2.86838 to 2.36202, saving model to bestmodel.hdf5\n",
            "5/5 [==============================] - 0s 15ms/step - loss: 2.3620 - mae: 1.1238 - mape: 11.0578\n",
            "Epoch 10/500\n",
            "1/5 [=====>........................] - ETA: 0s - loss: 3.3860 - mae: 1.4867 - mape: 13.5466\n",
            "Epoch 10: loss improved from 2.36202 to 2.23023, saving model to bestmodel.hdf5\n",
            "5/5 [==============================] - 0s 12ms/step - loss: 2.2302 - mae: 1.1348 - mape: 10.5188\n",
            "Epoch 11/500\n",
            "1/5 [=====>........................] - ETA: 0s - loss: 2.0853 - mae: 0.8973 - mape: 9.2172\n",
            "Epoch 11: loss did not improve from 2.23023\n",
            "5/5 [==============================] - 0s 5ms/step - loss: 2.4113 - mae: 1.2271 - mape: 10.9570\n",
            "Epoch 12/500\n",
            "1/5 [=====>........................] - ETA: 0s - loss: 3.7842 - mae: 1.5432 - mape: 14.1118\n",
            "Epoch 12: loss did not improve from 2.23023\n",
            "5/5 [==============================] - 0s 5ms/step - loss: 2.8169 - mae: 1.3324 - mape: 11.5016\n",
            "Epoch 13/500\n",
            "1/5 [=====>........................] - ETA: 0s - loss: 1.4355 - mae: 0.9166 - mape: 7.8057\n",
            "Epoch 13: loss improved from 2.23023 to 2.10687, saving model to bestmodel.hdf5\n",
            "5/5 [==============================] - 0s 12ms/step - loss: 2.1069 - mae: 1.0660 - mape: 9.9950\n",
            "Epoch 14/500\n",
            "1/5 [=====>........................] - ETA: 0s - loss: 1.4091 - mae: 0.8798 - mape: 9.4793\n",
            "Epoch 14: loss did not improve from 2.10687\n",
            "5/5 [==============================] - 0s 7ms/step - loss: 2.2036 - mae: 1.1101 - mape: 10.0189\n",
            "Epoch 15/500\n",
            "1/5 [=====>........................] - ETA: 0s - loss: 2.7738 - mae: 1.1433 - mape: 9.6746\n",
            "Epoch 15: loss did not improve from 2.10687\n",
            "5/5 [==============================] - 0s 7ms/step - loss: 2.2543 - mae: 1.1062 - mape: 9.9205\n",
            "Epoch 16/500\n",
            "1/5 [=====>........................] - ETA: 0s - loss: 2.0712 - mae: 1.1698 - mape: 9.0106\n",
            "Epoch 16: loss did not improve from 2.10687\n",
            "5/5 [==============================] - 0s 6ms/step - loss: 2.1896 - mae: 1.0799 - mape: 9.8442\n",
            "Epoch 17/500\n",
            "1/5 [=====>........................] - ETA: 0s - loss: 3.0489 - mae: 1.4001 - mape: 12.2413\n",
            "Epoch 17: loss did not improve from 2.10687\n",
            "5/5 [==============================] - 0s 5ms/step - loss: 2.3980 - mae: 1.1768 - mape: 10.1827\n",
            "Epoch 18/500\n",
            "1/5 [=====>........................] - ETA: 0s - loss: 2.4928 - mae: 1.2230 - mape: 12.7734\n",
            "Epoch 18: loss did not improve from 2.10687\n",
            "5/5 [==============================] - 0s 9ms/step - loss: 2.2113 - mae: 1.1631 - mape: 10.1171\n",
            "Epoch 19/500\n",
            "1/5 [=====>........................] - ETA: 0s - loss: 2.4090 - mae: 1.1886 - mape: 10.7692\n",
            "Epoch 19: loss did not improve from 2.10687\n",
            "5/5 [==============================] - 0s 5ms/step - loss: 2.1213 - mae: 1.1108 - mape: 9.5991\n",
            "Epoch 20/500\n",
            "1/5 [=====>........................] - ETA: 0s - loss: 2.0674 - mae: 0.9830 - mape: 8.3932\n",
            "Epoch 20: loss did not improve from 2.10687\n",
            "5/5 [==============================] - 0s 5ms/step - loss: 2.1636 - mae: 1.0834 - mape: 9.7507\n",
            "Epoch 21/500\n",
            "1/5 [=====>........................] - ETA: 0s - loss: 2.0313 - mae: 1.2236 - mape: 8.9007\n",
            "Epoch 21: loss improved from 2.10687 to 1.98511, saving model to bestmodel.hdf5\n",
            "5/5 [==============================] - 0s 13ms/step - loss: 1.9851 - mae: 1.0476 - mape: 9.2590\n",
            "Epoch 22/500\n",
            "1/5 [=====>........................] - ETA: 0s - loss: 2.1726 - mae: 1.1203 - mape: 9.8286\n",
            "Epoch 22: loss did not improve from 1.98511\n",
            "5/5 [==============================] - 0s 6ms/step - loss: 2.1152 - mae: 1.1406 - mape: 9.6281\n",
            "Epoch 23/500\n",
            "1/5 [=====>........................] - ETA: 0s - loss: 1.2963 - mae: 0.8838 - mape: 6.7370\n",
            "Epoch 23: loss did not improve from 1.98511\n",
            "5/5 [==============================] - 0s 6ms/step - loss: 1.9914 - mae: 1.0658 - mape: 9.2613\n",
            "Epoch 24/500\n",
            "1/5 [=====>........................] - ETA: 0s - loss: 1.5845 - mae: 0.9134 - mape: 8.9797\n",
            "Epoch 24: loss improved from 1.98511 to 1.75163, saving model to bestmodel.hdf5\n",
            "5/5 [==============================] - 0s 12ms/step - loss: 1.7516 - mae: 0.9719 - mape: 8.6810\n",
            "Epoch 25/500\n",
            "1/5 [=====>........................] - ETA: 0s - loss: 1.6386 - mae: 1.0223 - mape: 7.3409\n",
            "Epoch 25: loss did not improve from 1.75163\n",
            "5/5 [==============================] - 0s 5ms/step - loss: 1.8402 - mae: 0.9939 - mape: 8.8362\n",
            "Epoch 26/500\n",
            "1/5 [=====>........................] - ETA: 0s - loss: 1.2418 - mae: 0.8053 - mape: 8.3313\n",
            "Epoch 26: loss improved from 1.75163 to 1.72019, saving model to bestmodel.hdf5\n",
            "5/5 [==============================] - 0s 15ms/step - loss: 1.7202 - mae: 0.9781 - mape: 8.5814\n",
            "Epoch 27/500\n",
            "1/5 [=====>........................] - ETA: 0s - loss: 2.4069 - mae: 1.1262 - mape: 10.0327\n",
            "Epoch 27: loss did not improve from 1.72019\n",
            "5/5 [==============================] - 0s 6ms/step - loss: 1.8242 - mae: 1.0229 - mape: 8.9013\n",
            "Epoch 28/500\n",
            "1/5 [=====>........................] - ETA: 0s - loss: 2.9965 - mae: 1.3167 - mape: 11.1375\n",
            "Epoch 28: loss did not improve from 1.72019\n",
            "5/5 [==============================] - 0s 6ms/step - loss: 1.9621 - mae: 1.0505 - mape: 9.0264\n",
            "Epoch 29/500\n",
            "1/5 [=====>........................] - ETA: 0s - loss: 1.4527 - mae: 0.7920 - mape: 6.7654\n",
            "Epoch 29: loss did not improve from 1.72019\n",
            "5/5 [==============================] - 0s 6ms/step - loss: 1.7302 - mae: 0.9528 - mape: 8.5502\n",
            "Epoch 30/500\n",
            "1/5 [=====>........................] - ETA: 0s - loss: 1.2215 - mae: 0.9343 - mape: 7.4359\n",
            "Epoch 30: loss improved from 1.72019 to 1.67129, saving model to bestmodel.hdf5\n",
            "5/5 [==============================] - 0s 12ms/step - loss: 1.6713 - mae: 0.9430 - mape: 8.3622\n",
            "Epoch 31/500\n",
            "1/5 [=====>........................] - ETA: 0s - loss: 1.8069 - mae: 0.9621 - mape: 8.2997\n",
            "Epoch 31: loss improved from 1.67129 to 1.56490, saving model to bestmodel.hdf5\n",
            "5/5 [==============================] - 0s 13ms/step - loss: 1.5649 - mae: 0.8733 - mape: 8.0085\n",
            "Epoch 32/500\n",
            "1/5 [=====>........................] - ETA: 0s - loss: 1.7624 - mae: 0.9769 - mape: 9.2986\n",
            "Epoch 32: loss did not improve from 1.56490\n",
            "5/5 [==============================] - 0s 7ms/step - loss: 1.6379 - mae: 0.9170 - mape: 8.1622\n",
            "Epoch 33/500\n",
            "1/5 [=====>........................] - ETA: 0s - loss: 1.6482 - mae: 0.9641 - mape: 7.7291\n",
            "Epoch 33: loss did not improve from 1.56490\n",
            "5/5 [==============================] - 0s 5ms/step - loss: 1.7335 - mae: 0.9683 - mape: 8.5243\n",
            "Epoch 34/500\n",
            "1/5 [=====>........................] - ETA: 0s - loss: 1.1053 - mae: 0.7639 - mape: 7.1094\n",
            "Epoch 34: loss improved from 1.56490 to 1.54654, saving model to bestmodel.hdf5\n",
            "5/5 [==============================] - 0s 13ms/step - loss: 1.5465 - mae: 0.9151 - mape: 8.0341\n",
            "Epoch 35/500\n",
            "1/5 [=====>........................] - ETA: 0s - loss: 2.2096 - mae: 1.1337 - mape: 9.2115\n",
            "Epoch 35: loss did not improve from 1.54654\n",
            "5/5 [==============================] - 0s 5ms/step - loss: 1.6250 - mae: 0.9456 - mape: 8.2561\n",
            "Epoch 36/500\n",
            "1/5 [=====>........................] - ETA: 0s - loss: 1.6663 - mae: 0.8372 - mape: 7.5352\n",
            "Epoch 36: loss improved from 1.54654 to 1.48647, saving model to bestmodel.hdf5\n",
            "5/5 [==============================] - 0s 13ms/step - loss: 1.4865 - mae: 0.8405 - mape: 7.6489\n",
            "Epoch 37/500\n",
            "1/5 [=====>........................] - ETA: 0s - loss: 1.3181 - mae: 0.8135 - mape: 7.0347\n",
            "Epoch 37: loss improved from 1.48647 to 1.46909, saving model to bestmodel.hdf5\n",
            "5/5 [==============================] - 0s 15ms/step - loss: 1.4691 - mae: 0.8587 - mape: 7.6235\n",
            "Epoch 38/500\n",
            "1/5 [=====>........................] - ETA: 0s - loss: 1.4078 - mae: 0.7726 - mape: 8.2344\n",
            "Epoch 38: loss improved from 1.46909 to 1.39563, saving model to bestmodel.hdf5\n",
            "5/5 [==============================] - 0s 12ms/step - loss: 1.3956 - mae: 0.8490 - mape: 7.5371\n",
            "Epoch 39/500\n",
            "1/5 [=====>........................] - ETA: 0s - loss: 0.7557 - mae: 0.6154 - mape: 5.4641\n",
            "Epoch 39: loss did not improve from 1.39563\n",
            "5/5 [==============================] - 0s 7ms/step - loss: 1.4184 - mae: 0.8391 - mape: 7.4917\n",
            "Epoch 40/500\n",
            "1/5 [=====>........................] - ETA: 0s - loss: 1.6946 - mae: 0.8117 - mape: 7.3957\n",
            "Epoch 40: loss did not improve from 1.39563\n",
            "5/5 [==============================] - 0s 6ms/step - loss: 1.4719 - mae: 0.8475 - mape: 7.5658\n",
            "Epoch 41/500\n",
            "1/5 [=====>........................] - ETA: 0s - loss: 1.3866 - mae: 0.8931 - mape: 7.0217\n",
            "Epoch 41: loss did not improve from 1.39563\n",
            "5/5 [==============================] - 0s 5ms/step - loss: 1.6439 - mae: 0.9324 - mape: 8.1043\n",
            "Epoch 42/500\n",
            "1/5 [=====>........................] - ETA: 0s - loss: 2.3795 - mae: 1.1514 - mape: 10.6276\n",
            "Epoch 42: loss did not improve from 1.39563\n",
            "5/5 [==============================] - 0s 6ms/step - loss: 1.7744 - mae: 1.0042 - mape: 8.5461\n",
            "Epoch 43/500\n",
            "1/5 [=====>........................] - ETA: 0s - loss: 2.5083 - mae: 1.0198 - mape: 9.8871\n",
            "Epoch 43: loss did not improve from 1.39563\n",
            "5/5 [==============================] - 0s 5ms/step - loss: 1.5476 - mae: 0.9229 - mape: 7.9919\n",
            "Epoch 44/500\n",
            "1/5 [=====>........................] - ETA: 0s - loss: 1.4305 - mae: 0.8744 - mape: 7.5602\n",
            "Epoch 44: loss did not improve from 1.39563\n",
            "5/5 [==============================] - 0s 5ms/step - loss: 1.4083 - mae: 0.8439 - mape: 7.4618\n",
            "Epoch 45/500\n",
            "1/5 [=====>........................] - ETA: 0s - loss: 0.6959 - mae: 0.5916 - mape: 4.6797\n",
            "Epoch 45: loss did not improve from 1.39563\n",
            "5/5 [==============================] - 0s 7ms/step - loss: 1.4315 - mae: 0.8555 - mape: 7.5299\n",
            "Epoch 46/500\n",
            "1/5 [=====>........................] - ETA: 0s - loss: 2.1175 - mae: 1.0542 - mape: 9.6638\n",
            "Epoch 46: loss improved from 1.39563 to 1.35040, saving model to bestmodel.hdf5\n",
            "5/5 [==============================] - 0s 13ms/step - loss: 1.3504 - mae: 0.8037 - mape: 7.2101\n",
            "Epoch 47/500\n",
            "1/5 [=====>........................] - ETA: 0s - loss: 1.1675 - mae: 0.7597 - mape: 8.0749\n",
            "Epoch 47: loss improved from 1.35040 to 1.28523, saving model to bestmodel.hdf5\n",
            "5/5 [==============================] - 0s 15ms/step - loss: 1.2852 - mae: 0.7666 - mape: 7.0398\n",
            "Epoch 48/500\n",
            "1/5 [=====>........................] - ETA: 0s - loss: 1.5547 - mae: 0.8296 - mape: 7.8411\n",
            "Epoch 48: loss did not improve from 1.28523\n",
            "5/5 [==============================] - 0s 6ms/step - loss: 1.3084 - mae: 0.7993 - mape: 7.1601\n",
            "Epoch 49/500\n",
            "1/5 [=====>........................] - ETA: 0s - loss: 1.7455 - mae: 0.9163 - mape: 9.5205\n",
            "Epoch 49: loss did not improve from 1.28523\n",
            "5/5 [==============================] - 0s 9ms/step - loss: 1.5587 - mae: 0.9261 - mape: 8.0812\n",
            "Epoch 50/500\n",
            "1/5 [=====>........................] - ETA: 0s - loss: 1.0626 - mae: 0.7573 - mape: 6.5724\n",
            "Epoch 50: loss did not improve from 1.28523\n",
            "5/5 [==============================] - 0s 9ms/step - loss: 1.3512 - mae: 0.8361 - mape: 7.4668\n",
            "Epoch 51/500\n",
            "1/5 [=====>........................] - ETA: 0s - loss: 0.9186 - mae: 0.6280 - mape: 5.5597\n",
            "Epoch 51: loss did not improve from 1.28523\n",
            "5/5 [==============================] - 0s 9ms/step - loss: 1.4183 - mae: 0.8371 - mape: 7.3609\n",
            "Epoch 52/500\n",
            "1/5 [=====>........................] - ETA: 0s - loss: 0.9281 - mae: 0.6556 - mape: 5.5344\n",
            "Epoch 52: loss did not improve from 1.28523\n",
            "5/5 [==============================] - 0s 9ms/step - loss: 1.5802 - mae: 0.9294 - mape: 8.1042\n",
            "Epoch 53/500\n",
            "1/5 [=====>........................] - ETA: 0s - loss: 2.4288 - mae: 1.3092 - mape: 8.4425\n",
            "Epoch 53: loss did not improve from 1.28523\n",
            "5/5 [==============================] - 0s 9ms/step - loss: 1.8717 - mae: 1.0288 - mape: 8.3634\n",
            "Epoch 54/500\n",
            "1/5 [=====>........................] - ETA: 0s - loss: 3.0300 - mae: 1.4996 - mape: 11.6084\n",
            "Epoch 54: loss did not improve from 1.28523\n",
            "5/5 [==============================] - 0s 8ms/step - loss: 2.1301 - mae: 1.1695 - mape: 9.1140\n",
            "Epoch 55/500\n",
            "1/5 [=====>........................] - ETA: 0s - loss: 1.1585 - mae: 0.8157 - mape: 7.2854\n",
            "Epoch 55: loss did not improve from 1.28523\n",
            "5/5 [==============================] - 0s 7ms/step - loss: 1.6297 - mae: 0.9954 - mape: 8.1083\n",
            "Epoch 56/500\n",
            "1/5 [=====>........................] - ETA: 0s - loss: 0.7390 - mae: 0.6254 - mape: 5.0630\n",
            "Epoch 56: loss did not improve from 1.28523\n",
            "5/5 [==============================] - 0s 7ms/step - loss: 1.3959 - mae: 0.8970 - mape: 7.5343\n",
            "Epoch 57/500\n",
            "1/5 [=====>........................] - ETA: 0s - loss: 1.6547 - mae: 0.8586 - mape: 8.1662\n",
            "Epoch 57: loss improved from 1.28523 to 1.24528, saving model to bestmodel.hdf5\n",
            "5/5 [==============================] - 0s 19ms/step - loss: 1.2453 - mae: 0.8143 - mape: 7.0455\n",
            "Epoch 58/500\n",
            "1/5 [=====>........................] - ETA: 0s - loss: 0.7856 - mae: 0.6586 - mape: 5.6082\n",
            "Epoch 58: loss improved from 1.24528 to 1.15439, saving model to bestmodel.hdf5\n",
            "5/5 [==============================] - 0s 13ms/step - loss: 1.1544 - mae: 0.7779 - mape: 6.9206\n",
            "Epoch 59/500\n",
            "1/5 [=====>........................] - ETA: 0s - loss: 1.1611 - mae: 0.7405 - mape: 6.5471\n",
            "Epoch 59: loss did not improve from 1.15439\n",
            "5/5 [==============================] - 0s 5ms/step - loss: 1.1799 - mae: 0.7620 - mape: 6.6855\n",
            "Epoch 60/500\n",
            "1/5 [=====>........................] - ETA: 0s - loss: 0.6925 - mae: 0.5639 - mape: 4.4296\n",
            "Epoch 60: loss did not improve from 1.15439\n",
            "5/5 [==============================] - 0s 5ms/step - loss: 1.1572 - mae: 0.7634 - mape: 6.6928\n",
            "Epoch 61/500\n",
            "1/5 [=====>........................] - ETA: 0s - loss: 0.7300 - mae: 0.6850 - mape: 6.3838\n",
            "Epoch 61: loss did not improve from 1.15439\n",
            "5/5 [==============================] - 0s 6ms/step - loss: 1.2025 - mae: 0.7996 - mape: 6.9250\n",
            "Epoch 62/500\n",
            "1/5 [=====>........................] - ETA: 0s - loss: 0.9911 - mae: 0.6484 - mape: 5.3339\n",
            "Epoch 62: loss did not improve from 1.15439\n",
            "5/5 [==============================] - 0s 7ms/step - loss: 1.2756 - mae: 0.8104 - mape: 6.8954\n",
            "Epoch 63/500\n",
            "1/5 [=====>........................] - ETA: 0s - loss: 1.8373 - mae: 1.1579 - mape: 9.0349\n",
            "Epoch 63: loss did not improve from 1.15439\n",
            "5/5 [==============================] - 0s 7ms/step - loss: 1.5023 - mae: 0.9223 - mape: 7.5593\n",
            "Epoch 64/500\n",
            "1/5 [=====>........................] - ETA: 0s - loss: 2.3027 - mae: 1.3127 - mape: 9.1459\n",
            "Epoch 64: loss did not improve from 1.15439\n",
            "5/5 [==============================] - 0s 5ms/step - loss: 1.6953 - mae: 0.9882 - mape: 7.9941\n",
            "Epoch 65/500\n",
            "1/5 [=====>........................] - ETA: 0s - loss: 1.5471 - mae: 0.9095 - mape: 8.2055\n",
            "Epoch 65: loss did not improve from 1.15439\n",
            "5/5 [==============================] - 0s 5ms/step - loss: 1.3749 - mae: 0.8668 - mape: 7.1531\n",
            "Epoch 66/500\n",
            "1/5 [=====>........................] - ETA: 0s - loss: 0.9158 - mae: 0.6937 - mape: 7.0730\n",
            "Epoch 66: loss did not improve from 1.15439\n",
            "5/5 [==============================] - 0s 6ms/step - loss: 1.2113 - mae: 0.8146 - mape: 6.8027\n",
            "Epoch 67/500\n",
            "1/5 [=====>........................] - ETA: 0s - loss: 2.3765 - mae: 1.0746 - mape: 9.9530\n",
            "Epoch 67: loss did not improve from 1.15439\n",
            "5/5 [==============================] - 0s 6ms/step - loss: 1.2973 - mae: 0.8558 - mape: 7.2196\n",
            "Epoch 68/500\n",
            "1/5 [=====>........................] - ETA: 0s - loss: 2.0636 - mae: 1.0653 - mape: 9.5201\n",
            "Epoch 68: loss did not improve from 1.15439\n",
            "5/5 [==============================] - 0s 7ms/step - loss: 1.3833 - mae: 0.8959 - mape: 7.4069\n"
          ]
        },
        {
          "output_type": "execute_result",
          "data": {
            "text/plain": [
              "<keras.callbacks.History at 0x7fac9e4749d0>"
            ]
          },
          "metadata": {},
          "execution_count": 52
        }
      ]
    },
    {
      "cell_type": "code",
      "source": [
        "# Evaluate Model\n",
        "score = model.evaluate(X_test, Y_test)\n",
        "print('MSE ', score)"
      ],
      "metadata": {
        "colab": {
          "base_uri": "https://localhost:8080/"
        },
        "id": "p0PtTJF0TueV",
        "outputId": "b623d50e-8aac-46f7-d387-ebe018c28eb1"
      },
      "execution_count": 53,
      "outputs": [
        {
          "output_type": "stream",
          "name": "stdout",
          "text": [
            "2/2 [==============================] - 0s 10ms/step - loss: 3.7527 - mae: 1.4151 - mape: 13.9788\n",
            "MSE  [3.7526824474334717, 1.4150888919830322, 13.978787422180176]\n"
          ]
        }
      ]
    },
    {
      "cell_type": "code",
      "source": [
        "# Expense data\n",
        "expense = [[100, 200, 0]]\n",
        "predictions = model.predict(expense)\n",
        "print('YOU WILL SELL', predictions)"
      ],
      "metadata": {
        "colab": {
          "base_uri": "https://localhost:8080/"
        },
        "id": "Fb7jvjGDTy0j",
        "outputId": "1995213b-00ef-48af-ea3b-96ab139657ab"
      },
      "execution_count": 54,
      "outputs": [
        {
          "output_type": "stream",
          "name": "stdout",
          "text": [
            "1/1 [==============================] - 0s 122ms/step\n",
            "YOU WILL SELL [[34.07832]]\n"
          ]
        }
      ]
    },
    {
      "cell_type": "code",
      "source": [
        "# Expense data\n",
        "expense = [[100, 200, 0]]\n",
        "model.load_weights(\"bestmodel.hdf5\")\n",
        "predictions = model.predict(expense)\n",
        "print('YOU WILL SELL', predictions)"
      ],
      "metadata": {
        "colab": {
          "base_uri": "https://localhost:8080/"
        },
        "id": "1ak70zCuI4lI",
        "outputId": "317ae1af-86e3-4d33-d019-c013713a1b09"
      },
      "execution_count": 55,
      "outputs": [
        {
          "output_type": "stream",
          "name": "stdout",
          "text": [
            "1/1 [==============================] - 0s 31ms/step\n",
            "YOU WILL SELL [[34.07832]]\n"
          ]
        }
      ]
    },
    {
      "cell_type": "code",
      "source": [
        "# approach\n",
        "from tensorflow import keras\n",
        "expense = [[100, 200, 0]]\n",
        "m = keras.models.load_model(\"bestmodel.hdf5\")\n",
        "predictions = m.predict(expense)\n",
        "print('YOU WILL SELL', predictions)"
      ],
      "metadata": {
        "colab": {
          "base_uri": "https://localhost:8080/"
        },
        "id": "irVnEU8UI9B0",
        "outputId": "4829ad9c-ca4f-451f-82f9-7882584b5409"
      },
      "execution_count": 56,
      "outputs": [
        {
          "output_type": "stream",
          "name": "stderr",
          "text": [
            "WARNING:tensorflow:5 out of the last 6 calls to <function Model.make_predict_function.<locals>.predict_function at 0x7fac9df6e790> triggered tf.function retracing. Tracing is expensive and the excessive number of tracings could be due to (1) creating @tf.function repeatedly in a loop, (2) passing tensors with different shapes, (3) passing Python objects instead of tensors. For (1), please define your @tf.function outside of the loop. For (2), @tf.function has reduce_retracing=True option that can avoid unnecessary retracing. For (3), please refer to https://www.tensorflow.org/guide/function#controlling_retracing and https://www.tensorflow.org/api_docs/python/tf/function for  more details.\n"
          ]
        },
        {
          "output_type": "stream",
          "name": "stdout",
          "text": [
            "1/1 [==============================] - 0s 85ms/step\n",
            "YOU WILL SELL [[34.07832]]\n"
          ]
        }
      ]
    }
  ]
}