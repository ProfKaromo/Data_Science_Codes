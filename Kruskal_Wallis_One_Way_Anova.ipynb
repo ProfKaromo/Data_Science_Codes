{
  "nbformat": 4,
  "nbformat_minor": 0,
  "metadata": {
    "colab": {
      "provenance": [],
      "authorship_tag": "ABX9TyMcsf/tkAAeTIDatvg4keJv",
      "include_colab_link": true
    },
    "kernelspec": {
      "name": "python3",
      "display_name": "Python 3"
    },
    "language_info": {
      "name": "python"
    }
  },
  "cells": [
    {
      "cell_type": "markdown",
      "metadata": {
        "id": "view-in-github",
        "colab_type": "text"
      },
      "source": [
        "<a href=\"https://colab.research.google.com/github/ProfKaromo/Data_Science_Codes/blob/main/Kruskal_Wallis_One_Way_Anova.ipynb\" target=\"_parent\"><img src=\"https://colab.research.google.com/assets/colab-badge.svg\" alt=\"Open In Colab\"/></a>"
      ]
    },
    {
      "cell_type": "code",
      "execution_count": 2,
      "metadata": {
        "id": "LlotHWtcVXO4"
      },
      "outputs": [],
      "source": [
        "# https://statistics.laerd.com/spss-tutorials/kruskal-wallis-h-test-using-spss-statistics.php\n",
        "# Non parametric\n",
        "# The null hypothesis H ( 0): The median is equal across all groups .\n",
        "# The alternative hypothesis H : ( 1): The median is not equal across all groups.\n",
        "\n",
        "group1 = [7, 14, 14, 13, 12, 9, 6, 14, 12, 8]\n",
        "group2 = [15, 17, 13, 15, 15, 13, 9, 12, 10, 8]\n",
        "group3 = [6, 8, 8, 9, 5, 14, 13, 8, 10, 9]"
      ]
    },
    {
      "cell_type": "code",
      "source": [
        "from scipy.stats import kruskal\n",
        "stats, pvalue = kruskal(group1, group2, group3)\n",
        "print('Pval ', pvalue)\n",
        "if pvalue < 0.05:\n",
        "   print('Reject Null, The median is not equal across all groups.')\n",
        "else:\n",
        "   print('Fail to Reject,  The median is equal across all groups .')"
      ],
      "metadata": {
        "colab": {
          "base_uri": "https://localhost:8080/"
        },
        "id": "PeJZw9GeVzEY",
        "outputId": "fc622d74-cb9a-4ce6-f675-9f076d4df98a"
      },
      "execution_count": 3,
      "outputs": [
        {
          "output_type": "stream",
          "name": "stdout",
          "text": [
            "Pval  0.043114289703508814\n",
            "Reject Null, The median is not equal across all groups.\n"
          ]
        }
      ]
    }
  ]
}