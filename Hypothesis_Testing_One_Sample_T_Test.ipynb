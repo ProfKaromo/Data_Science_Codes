{
  "nbformat": 4,
  "nbformat_minor": 0,
  "metadata": {
    "colab": {
      "provenance": [],
      "authorship_tag": "ABX9TyOEOxdhCStP7CrniX87nljL",
      "include_colab_link": true
    },
    "kernelspec": {
      "name": "python3",
      "display_name": "Python 3"
    },
    "language_info": {
      "name": "python"
    }
  },
  "cells": [
    {
      "cell_type": "markdown",
      "metadata": {
        "id": "view-in-github",
        "colab_type": "text"
      },
      "source": [
        "<a href=\"https://colab.research.google.com/github/ProfKaromo/Data_Science_Codes/blob/main/Hypothesis_Testing_One_Sample_T_Test.ipynb\" target=\"_parent\"><img src=\"https://colab.research.google.com/assets/colab-badge.svg\" alt=\"Open In Colab\"/></a>"
      ]
    },
    {
      "cell_type": "code",
      "execution_count": 1,
      "metadata": {
        "id": "Wt3oLAs4Qg5z"
      },
      "outputs": [],
      "source": [
        "import pandas  \n",
        "# Read data, manipulate your data, select columns, basic stats, check empties.\n",
        "data = pandas.read_csv(\"https://modcom.co.ke/data/datasets/schoolcleaned.csv\", \n",
        "                       parse_dates=['bday','enrolldate', 'expgradate'])\n",
        "#data.head(2)\n",
        "# State Hypothesis\n",
        "# H0: The mean score for reading  subject is equal to 70  - Null.\n",
        "# H1: The mean score for reading  subject is not equal to 70 - Alternative."
      ]
    },
    {
      "cell_type": "code",
      "source": [
        "from scipy.stats import ttest_1samp\n",
        "statistic, pvalue = ttest_1samp(data['Reading'], popmean = 70)\n",
        "# Confidence Level 95%, 5% is Risk\n",
        "print('Pvalue ', pvalue)\n",
        "print('Test Statistic ', statistic)\n",
        "if pvalue < 0.05:\n",
        "   print('Reject Null Hypothesis')\n",
        "   \n",
        "else:\n",
        "   print('Fail to Reject Null Hypothesis')\n",
        "# We Conclude, \n",
        "# We Reject the null hypothesis and accept the Alternative, that\n",
        "# The mean score for reading  subject is not equal to 70.\n",
        "# We check Outliers, Nomality.\n",
        "# H0: The mean score for Sprint  subject is equal to 7  - Null.\n",
        "# H1: The mean score for reading  subject is not equal to 7 - Alternative.\n"
      ],
      "metadata": {
        "id": "-aqFeygiX4d6",
        "outputId": "e3f1b0d6-f2f7-4fef-a96c-8c7c0c453946",
        "colab": {
          "base_uri": "https://localhost:8080/"
        }
      },
      "execution_count": 2,
      "outputs": [
        {
          "output_type": "stream",
          "name": "stdout",
          "text": [
            "Pvalue  3.5051218910027395e-114\n",
            "Test Statistic  32.28472944993415\n",
            "Reject Null Hypothesis\n"
          ]
        }
      ]
    },
    {
      "cell_type": "code",
      "source": [
        "import matplotlib.pyplot as plt\n",
        "import seaborn as sns\n",
        "sns.distplot(data['Reading'], kde=True)"
      ],
      "metadata": {
        "colab": {
          "base_uri": "https://localhost:8080/",
          "height": 351
        },
        "id": "QVAX5LifUNsS",
        "outputId": "0e9726b5-743c-4101-e148-b886bbc9af94"
      },
      "execution_count": 3,
      "outputs": [
        {
          "output_type": "stream",
          "name": "stderr",
          "text": [
            "/usr/local/lib/python3.7/dist-packages/seaborn/distributions.py:2619: FutureWarning: `distplot` is a deprecated function and will be removed in a future version. Please adapt your code to use either `displot` (a figure-level function with similar flexibility) or `histplot` (an axes-level function for histograms).\n",
            "  warnings.warn(msg, FutureWarning)\n"
          ]
        },
        {
          "output_type": "execute_result",
          "data": {
            "text/plain": [
              "<matplotlib.axes._subplots.AxesSubplot at 0x7f9d8f0a4090>"
            ]
          },
          "metadata": {},
          "execution_count": 3
        },
        {
          "output_type": "display_data",
          "data": {
            "text/plain": [
              "<Figure size 432x288 with 1 Axes>"
            ],
            "image/png": "[encoded data removed]"
          },
          "metadata": {
            "needs_background": "light"
          }
        }
      ]
    },
    {
      "cell_type": "code",
      "source": [],
      "metadata": {
        "id": "--TRSLJtUdVz"
      },
      "execution_count": null,
      "outputs": []
    },
    {
      "cell_type": "code",
      "source": [
        "\n",
        "from scipy.stats import shapiro\n",
        "stats, pvalue = shapiro(data['Reading'])\n",
        "if pvalue > 0.05:\n",
        "   print('the data is normal')\n",
        "else:\n",
        "  print('the data is not normal')"
      ],
      "metadata": {
        "colab": {
          "base_uri": "https://localhost:8080/"
        },
        "id": "ZHLm5eMjJy1b",
        "outputId": "56284e39-eec1-4633-d41d-98017a63fa4f"
      },
      "execution_count": 4,
      "outputs": [
        {
          "output_type": "stream",
          "name": "stdout",
          "text": [
            "the data is normal\n"
          ]
        }
      ]
    },
    {
      "cell_type": "code",
      "source": [
        "data['Reading'].describe()"
      ],
      "metadata": {
        "colab": {
          "base_uri": "https://localhost:8080/"
        },
        "id": "EXub11bnUfOm",
        "outputId": "9829af8f-757d-47f4-8dfc-aa93bb139264"
      },
      "execution_count": 5,
      "outputs": [
        {
          "output_type": "execute_result",
          "data": {
            "text/plain": [
              "count    407.000000\n",
              "mean      82.143873\n",
              "std        7.588523\n",
              "min       55.110000\n",
              "25%       77.595000\n",
              "50%       82.000000\n",
              "75%       87.060000\n",
              "max      103.620000\n",
              "Name: Reading, dtype: float64"
            ]
          },
          "metadata": {},
          "execution_count": 5
        }
      ]
    },
    {
      "cell_type": "code",
      "source": [
        "data['Reading'].describe()\n",
        "\n",
        "lowerbound = 77.595000\n",
        "upperbound = 87.060000\n",
        "iqr = upperbound - lowerbound\n",
        "max = upperbound +(1.5 * iqr)\n",
        "min = lowerbound -(1.5 * iqr)\n",
        "print('Max ', max)\n",
        "print('Min ', min)\n",
        "data = data[data['Reading'] < max]\n",
        "data = data[data['Reading'] > min]\n",
        "sns.boxplot(y = data['Reading'])\n",
        "\n",
        "data['Reading'].count()"
      ],
      "metadata": {
        "colab": {
          "base_uri": "https://localhost:8080/",
          "height": 304
        },
        "id": "fHaAcZxzUlc2",
        "outputId": "5852624d-aae0-403a-f368-18f117e65228"
      },
      "execution_count": 6,
      "outputs": [
        {
          "output_type": "stream",
          "name": "stdout",
          "text": [
            "Max  101.25750000000001\n",
            "Min  63.397499999999994\n"
          ]
        },
        {
          "output_type": "execute_result",
          "data": {
            "text/plain": [
              "403"
            ]
          },
          "metadata": {},
          "execution_count": 6
        },
        {
          "output_type": "display_data",
          "data": {
            "text/plain": [
              "<Figure size 432x288 with 1 Axes>"
            ],
            "image/png": "[encoded data removed]"
          },
          "metadata": {
            "needs_background": "light"
          }
        }
      ]
    },
    {
      "cell_type": "code",
      "source": [
        "q_low = data[\"Reading\"].quantile(0.25) # LowerBound\n",
        "q_hi = data[\"Reading\"].quantile(0.75)    # UpperBound\n",
        " \n",
        "df_filtered = data[(data[\"Reading\"] < q_hi) & (data[\"Reading\"] > q_low)]  # Removing outlier for L and H\n",
        "sns.boxplot(x='Reading', data = df_filtered)\n",
        "data['Reading'].count()"
      ],
      "metadata": {
        "colab": {
          "base_uri": "https://localhost:8080/",
          "height": 296
        },
        "id": "PGR9LCy6UqFW",
        "outputId": "7d603d05-2a54-4458-cc9b-b3d9ed140a34"
      },
      "execution_count": 7,
      "outputs": [
        {
          "output_type": "execute_result",
          "data": {
            "text/plain": [
              "403"
            ]
          },
          "metadata": {},
          "execution_count": 7
        },
        {
          "output_type": "display_data",
          "data": {
            "text/plain": [
              "<Figure size 432x288 with 1 Axes>"
            ],
            "image/png": "[encoded data removed]"
          },
          "metadata": {
            "needs_background": "light"
          }
        }
      ]
    }
  ]
}