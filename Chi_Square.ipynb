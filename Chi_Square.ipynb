{
  "nbformat": 4,
  "nbformat_minor": 0,
  "metadata": {
    "colab": {
      "provenance": [],
      "authorship_tag": "ABX9TyMG4C58rlRzS+ikBGyDDyuN",
      "include_colab_link": true
    },
    "kernelspec": {
      "name": "python3",
      "display_name": "Python 3"
    },
    "language_info": {
      "name": "python"
    }
  },
  "cells": [
    {
      "cell_type": "markdown",
      "metadata": {
        "id": "view-in-github",
        "colab_type": "text"
      },
      "source": [
        "<a href=\"https://colab.research.google.com/github/ProfKaromo/Data_Science_Codes/blob/main/Chi_Square.ipynb\" target=\"_parent\"><img src=\"https://colab.research.google.com/assets/colab-badge.svg\" alt=\"Open In Colab\"/></a>"
      ]
    },
    {
      "cell_type": "code",
      "execution_count": 1,
      "metadata": {
        "colab": {
          "base_uri": "https://localhost:8080/"
        },
        "id": "mgcEufFJKVXV",
        "outputId": "b92f57d8-0e68-42b5-c0da-4c09de22f04e"
      },
      "outputs": [
        {
          "output_type": "execute_result",
          "data": {
            "text/plain": [
              "[[120, 90, 40], [110, 95, 45]]"
            ]
          },
          "metadata": {},
          "execution_count": 1
        }
      ],
      "source": [
        "# H0:  null hypothesis 0: ( ) No Association.(Indepedent)\n",
        "# H1   alternative hypothesis 1: ( ) There is an Association(Dependent)\n",
        "data = [[120, 90, 40],\n",
        "        [110, 95, 45]]\n",
        "data "
      ]
    },
    {
      "cell_type": "code",
      "source": [
        "from scipy.stats import chi2_contingency\n",
        "chi2_contingency(data) \n",
        "# Test Statistic = 0.86\n",
        "# PValue = 0.64\n",
        "# DF - 2\n",
        "# Draw a Conclusion\n",
        "# We Accept the Null Hypothesis, and conclude that No Association.(Indepedent) between Gender & Political \n",
        "# Parties.\n"
      ],
      "metadata": {
        "colab": {
          "base_uri": "https://localhost:8080/"
        },
        "id": "Dgb5wwuXKX06",
        "outputId": "294098a1-6c8f-4c78-d975-df2af73d4775"
      },
      "execution_count": 2,
      "outputs": [
        {
          "output_type": "execute_result",
          "data": {
            "text/plain": [
              "(0.8640353908896108, 0.6491978887380976, 2, array([[115. ,  92.5,  42.5],\n",
              "        [115. ,  92.5,  42.5]]))"
            ]
          },
          "metadata": {},
          "execution_count": 2
        }
      ]
    },
    {
      "cell_type": "code",
      "source": [
        "data = [[120, 90, 40],\n",
        "        [410, 295, 645]]\n",
        "data \n",
        "from scipy.stats import chi2_contingency\n",
        "chi2_contingency(data) \n"
      ],
      "metadata": {
        "colab": {
          "base_uri": "https://localhost:8080/"
        },
        "id": "QuLyE6ZBKdhK",
        "outputId": "a4788360-284f-431e-8b12-832f6fe903f0"
      },
      "execution_count": 3,
      "outputs": [
        {
          "output_type": "execute_result",
          "data": {
            "text/plain": [
              "(87.09339047309025,\n",
              " 1.2243640059271855e-19,\n",
              " 2,\n",
              " array([[ 82.8125 ,  60.15625, 107.03125],\n",
              "        [447.1875 , 324.84375, 577.96875]]))"
            ]
          },
          "metadata": {},
          "execution_count": 3
        }
      ]
    }
  ]
}