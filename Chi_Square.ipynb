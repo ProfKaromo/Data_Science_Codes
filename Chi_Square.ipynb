{
  "nbformat": 4,
  "nbformat_minor": 0,
  "metadata": {
    "colab": {
      "provenance": [],
      "authorship_tag": "ABX9TyMvoLpMG+ETBTD3H5rRHwZJ",
      "include_colab_link": true
    },
    "kernelspec": {
      "name": "python3",
      "display_name": "Python 3"
    },
    "language_info": {
      "name": "python"
    }
  },
  "cells": [
    {
      "cell_type": "markdown",
      "metadata": {
        "id": "view-in-github",
        "colab_type": "text"
      },
      "source": [
        "<a href=\"https://colab.research.google.com/github/ProfKaromo/Data_Science_Codes/blob/main/Chi_Square.ipynb\" target=\"_parent\"><img src=\"https://colab.research.google.com/assets/colab-badge.svg\" alt=\"Open In Colab\"/></a>"
      ]
    },
    {
      "cell_type": "code",
      "execution_count": 1,
      "metadata": {
        "colab": {
          "base_uri": "https://localhost:8080/"
        },
        "id": "mgcEufFJKVXV",
        "outputId": "b92f57d8-0e68-42b5-c0da-4c09de22f04e"
      },
      "outputs": [
        {
          "output_type": "execute_result",
          "data": {
            "text/plain": [
              "[[120, 90, 40], [110, 95, 45]]"
            ]
          },
          "metadata": {},
          "execution_count": 1
        }
      ],
      "source": [
        "# H0:  null hypothesis 0: ( ) No Association.(Indepedent)\n",
        "# H1   alternative hypothesis 1: ( ) There is an Association(Dependent)\n",
        "data = [[120, 90, 40],\n",
        "        [110, 95, 45]]\n",
        "data "
      ]
    },
    {
      "cell_type": "code",
      "source": [
        "from scipy.stats import chi2_contingency\n",
        "chi2_contingency(data) \n",
        "# Test Statistic = 0.86\n",
        "# PValue = 0.64\n",
        "# DF - 2\n",
        "# Draw a Conclusion\n",
        "# We Accept the Null Hypothesis, and conclude that No Association.(Indepedent) between Gender & Political \n",
        "# Parties.\n"
      ],
      "metadata": {
        "colab": {
          "base_uri": "https://localhost:8080/"
        },
        "id": "Dgb5wwuXKX06",
        "outputId": "294098a1-6c8f-4c78-d975-df2af73d4775"
      },
      "execution_count": 2,
      "outputs": [
        {
          "output_type": "execute_result",
          "data": {
            "text/plain": [
              "(0.8640353908896108, 0.6491978887380976, 2, array([[115. ,  92.5,  42.5],\n",
              "        [115. ,  92.5,  42.5]]))"
            ]
          },
          "metadata": {},
          "execution_count": 2
        }
      ]
    },
    {
      "cell_type": "code",
      "source": [
        "##??? Get the difference\n",
        "data = [[80, 90, 80],\n",
        "        [80, 92, 78]]\n",
        "data \n",
        "from scipy.stats import chi2_contingency\n",
        "chi2_contingency(data) \n",
        "\n",
        "\n",
        "# pval = 0.00000\n",
        "# test statistic = 87.\n",
        "\n"
      ],
      "metadata": {
        "colab": {
          "base_uri": "https://localhost:8080/"
        },
        "id": "QuLyE6ZBKdhK",
        "outputId": "a2a4709b-266d-4645-9bda-660510f7e790"
      },
      "execution_count": 5,
      "outputs": [
        {
          "output_type": "execute_result",
          "data": {
            "text/plain": [
              "(0.04729447767422451, 0.9766301661920483, 2, array([[80., 91., 79.],\n",
              "        [80., 91., 79.]]))"
            ]
          },
          "metadata": {},
          "execution_count": 5
        }
      ]
    }
  ]
}