{
  "nbformat": 4,
  "nbformat_minor": 0,
  "metadata": {
    "colab": {
      "provenance": [],
      "authorship_tag": "ABX9TyPejQZuPhnzdP69wT87u3YF",
      "include_colab_link": true
    },
    "kernelspec": {
      "name": "python3",
      "display_name": "Python 3"
    },
    "language_info": {
      "name": "python"
    }
  },
  "cells": [
    {
      "cell_type": "markdown",
      "metadata": {
        "id": "view-in-github",
        "colab_type": "text"
      },
      "source": [
        "<a href=\"https://colab.research.google.com/github/ProfKaromo/Data_Science_Codes/blob/main/Hypothesis_Testing_Two_Sample_T_test.ipynb\" target=\"_parent\"><img src=\"https://colab.research.google.com/assets/colab-badge.svg\" alt=\"Open In Colab\"/></a>"
      ]
    },
    {
      "cell_type": "code",
      "execution_count": 1,
      "metadata": {
        "id": "4svAWV5aU7zg"
      },
      "outputs": [],
      "source": [
        "# Two Sample Test\n",
        "import pandas  \n",
        "# Read data, manipulate your data, select columns, basic stats, check empties.\n",
        "data = pandas.read_csv(\"https://modcom.co.ke/data/datasets/schoolcleaned.csv\", \n",
        "                       parse_dates=['bday','enrolldate', 'expgradate'])\n",
        "\n",
        "# h0: The mean are equal\n",
        "# h1: The mean are not equal\n"
      ]
    },
    {
      "cell_type": "code",
      "source": [
        "import numpy\n",
        "print(numpy.var(data['Reading']), numpy.var(data['Writing']))\n",
        "ratio = 57.444199271199224/27.466676881746775\n",
        "print('Ratio is ', ratio)\n",
        "# Since the Ratio is Less than 4 We would that variances are Equal"
      ],
      "metadata": {
        "colab": {
          "base_uri": "https://localhost:8080/"
        },
        "id": "mT88he9mYN7W",
        "outputId": "08df0a6c-acb1-4bcc-9a02-6ec9fdcb0838"
      },
      "execution_count": 2,
      "outputs": [
        {
          "output_type": "stream",
          "name": "stdout",
          "text": [
            "57.444199271199224 27.466676881746775\n",
            "Ratio is  2.0914142441954557\n"
          ]
        }
      ]
    }
  ]
}