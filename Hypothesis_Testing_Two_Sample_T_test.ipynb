{
  "nbformat": 4,
  "nbformat_minor": 0,
  "metadata": {
    "colab": {
      "provenance": [],
      "authorship_tag": "ABX9TyMNh7g9snDncplydXWdUY64",
      "include_colab_link": true
    },
    "kernelspec": {
      "name": "python3",
      "display_name": "Python 3"
    },
    "language_info": {
      "name": "python"
    }
  },
  "cells": [
    {
      "cell_type": "markdown",
      "metadata": {
        "id": "view-in-github",
        "colab_type": "text"
      },
      "source": [
        "<a href=\"https://colab.research.google.com/github/ProfKaromo/Data_Science_Codes/blob/main/Hypothesis_Testing_Two_Sample_T_test.ipynb\" target=\"_parent\"><img src=\"https://colab.research.google.com/assets/colab-badge.svg\" alt=\"Open In Colab\"/></a>"
      ]
    },
    {
      "cell_type": "code",
      "execution_count": 3,
      "metadata": {
        "id": "4svAWV5aU7zg"
      },
      "outputs": [],
      "source": [
        "# Two Sample Test\n",
        "import pandas  \n",
        "# Read data, manipulate your data, select columns, basic stats, check empties.\n",
        "data = pandas.read_csv(\"https://modcom.co.ke/data/datasets/schoolcleaned.csv\", \n",
        "                       parse_dates=['bday','enrolldate', 'expgradate'])\n",
        "\n",
        "# h0: The mean are equal\n",
        "# h1: The mean are not equal\n"
      ]
    },
    {
      "cell_type": "code",
      "source": [
        "import numpy\n",
        "print(numpy.var(data['Reading']), numpy.var(data['Writing']))\n",
        "ratio = 57.444199271199224/27.466676881746775\n",
        "print('Ratio is ', ratio)\n",
        "# Since the Ratio is Less than 4 We would that variances are Equal"
      ],
      "metadata": {
        "colab": {
          "base_uri": "https://localhost:8080/"
        },
        "id": "mT88he9mYN7W",
        "outputId": "fab53d85-5ce8-422c-ab57-9eb6d2e37a68"
      },
      "execution_count": 4,
      "outputs": [
        {
          "output_type": "stream",
          "name": "stdout",
          "text": [
            "57.444199271199224 27.466676881746775\n",
            "Ratio is  2.0914142441954557\n"
          ]
        }
      ]
    },
    {
      "cell_type": "code",
      "source": [
        "from scipy.stats import levene\n",
        "x, pvalue = levene(data['Reading'], data['Writing'])\n",
        "print('P ', pvalue)\n",
        "if pvalue > 0.05:\n",
        "   print('They are same')\n",
        "else:\n",
        "   print('They are different')"
      ],
      "metadata": {
        "colab": {
          "base_uri": "https://localhost:8080/"
        },
        "id": "JDuTRr14dhxt",
        "outputId": "733b1209-7174-4474-e93f-46288058ae2c"
      },
      "execution_count": 5,
      "outputs": [
        {
          "output_type": "stream",
          "name": "stdout",
          "text": [
            "P  1.4396885257522496e-09\n",
            "They are different\n"
          ]
        }
      ]
    },
    {
      "cell_type": "code",
      "source": [
        "#H0: μ1 = μ2 ( ) the two population means are equal\n",
        "# HA: μ1 ≠μ2 ( the two population means are not equal)\n",
        "from scipy.stats import ttest_ind\n",
        "statistic, pvalue = ttest_ind(data['Reading'], data['Writing'], equal_var=False)\n",
        "print('Pvalue ', pvalue)\n",
        "print('Test Statistic ', statistic)\n",
        "if pvalue < 0.05:\n",
        "   print('Reject Null Hypothesis')\n",
        "else:\n",
        "   print('Fail to Reject Null Hypothesis')"
      ],
      "metadata": {
        "colab": {
          "base_uri": "https://localhost:8080/"
        },
        "id": "VTFqYCkddnE1",
        "outputId": "ec83efd0-f6e4-4758-e391-85b0ef1c959b"
      },
      "execution_count": 6,
      "outputs": [
        {
          "output_type": "stream",
          "name": "stdout",
          "text": [
            "Pvalue  2.1248652580392424e-08\n",
            "Test Statistic  5.664923932603044\n",
            "Reject Null Hypothesis\n"
          ]
        }
      ]
    }
  ]
}